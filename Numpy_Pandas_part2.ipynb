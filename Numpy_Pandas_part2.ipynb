{
  "nbformat": 4,
  "nbformat_minor": 0,
  "metadata": {
    "colab": {
      "provenance": []
    },
    "kernelspec": {
      "name": "python3",
      "display_name": "Python 3"
    },
    "language_info": {
      "name": "python"
    }
  },
  "cells": [
    {
      "cell_type": "markdown",
      "source": [
        "**Step-by-Step Approach to NumPy, Pandas, Matplotlib, and Seaborn:**\n",
        "1. Setup and Data Preparation:\n",
        "\n",
        "● Import necessary libraries: NumPy, Pandas, Matplotlib, Seaborn."
      ],
      "metadata": {
        "id": "H7zHOn2Jl0Ui"
      }
    },
    {
      "cell_type": "code",
      "execution_count": 1,
      "metadata": {
        "id": "9fzJhE3elvzw"
      },
      "outputs": [],
      "source": [
        "import numpy as np\n",
        "import pandas as pd\n",
        "import matplotlib.pyplot as plt\n",
        "import seaborn as sns\n",
        "import warnings\n",
        "warnings.filterwarnings(\"ignore\")"
      ]
    },
    {
      "cell_type": "markdown",
      "source": [
        "● Load a dataset for exploration."
      ],
      "metadata": {
        "id": "o8buPH2amoEF"
      }
    },
    {
      "cell_type": "code",
      "source": [
        "df = pd.read_csv('Ecommerce_Delivery_Analytics_New.csv')\n",
        "df.head()"
      ],
      "metadata": {
        "colab": {
          "base_uri": "https://localhost:8080/",
          "height": 243
        },
        "id": "yz0FpLTsmrqM",
        "outputId": "3194f62e-e22e-471a-92ee-43442001e113"
      },
      "execution_count": null,
      "outputs": [
        {
          "output_type": "execute_result",
          "data": {
            "text/plain": [
              "     id  client_id  card_brand        card_type       card_number  expires  \\\n",
              "0  4524        825        Visa            Debit  4344676511950444  12/2022   \n",
              "1  2731        825        Visa            Debit  4956965974959986  12/2020   \n",
              "2  3701        825        Visa            Debit  4582313478255491  02/2024   \n",
              "3    42        825        Visa           Credit  4879494103069057  08/2024   \n",
              "4  4659        825  Mastercard  Debit (Prepaid)  5722874738736011  03/2009   \n",
              "\n",
              "   cvv has_chip  num_cards_issued credit_limit acct_open_date  \\\n",
              "0  623      YES                 2       $24295        09/2002   \n",
              "1  393      YES                 2       $21968        04/2014   \n",
              "2  719      YES                 2       $46414        07/2003   \n",
              "3  693       NO                 1       $12400        01/2003   \n",
              "4   75      YES                 1          $28        09/2008   \n",
              "\n",
              "   year_pin_last_changed card_on_dark_web  \n",
              "0                   2008               No  \n",
              "1                   2014               No  \n",
              "2                   2004               No  \n",
              "3                   2012               No  \n",
              "4                   2009               No  "
            ],
            "text/html": [
              "\n",
              "  <div id=\"df-0196ff8a-8e03-4f10-8e5e-77cc855af22e\" class=\"colab-df-container\">\n",
              "    <div>\n",
              "<style scoped>\n",
              "    .dataframe tbody tr th:only-of-type {\n",
              "        vertical-align: middle;\n",
              "    }\n",
              "\n",
              "    .dataframe tbody tr th {\n",
              "        vertical-align: top;\n",
              "    }\n",
              "\n",
              "    .dataframe thead th {\n",
              "        text-align: right;\n",
              "    }\n",
              "</style>\n",
              "<table border=\"1\" class=\"dataframe\">\n",
              "  <thead>\n",
              "    <tr style=\"text-align: right;\">\n",
              "      <th></th>\n",
              "      <th>id</th>\n",
              "      <th>client_id</th>\n",
              "      <th>card_brand</th>\n",
              "      <th>card_type</th>\n",
              "      <th>card_number</th>\n",
              "      <th>expires</th>\n",
              "      <th>cvv</th>\n",
              "      <th>has_chip</th>\n",
              "      <th>num_cards_issued</th>\n",
              "      <th>credit_limit</th>\n",
              "      <th>acct_open_date</th>\n",
              "      <th>year_pin_last_changed</th>\n",
              "      <th>card_on_dark_web</th>\n",
              "    </tr>\n",
              "  </thead>\n",
              "  <tbody>\n",
              "    <tr>\n",
              "      <th>0</th>\n",
              "      <td>4524</td>\n",
              "      <td>825</td>\n",
              "      <td>Visa</td>\n",
              "      <td>Debit</td>\n",
              "      <td>4344676511950444</td>\n",
              "      <td>12/2022</td>\n",
              "      <td>623</td>\n",
              "      <td>YES</td>\n",
              "      <td>2</td>\n",
              "      <td>$24295</td>\n",
              "      <td>09/2002</td>\n",
              "      <td>2008</td>\n",
              "      <td>No</td>\n",
              "    </tr>\n",
              "    <tr>\n",
              "      <th>1</th>\n",
              "      <td>2731</td>\n",
              "      <td>825</td>\n",
              "      <td>Visa</td>\n",
              "      <td>Debit</td>\n",
              "      <td>4956965974959986</td>\n",
              "      <td>12/2020</td>\n",
              "      <td>393</td>\n",
              "      <td>YES</td>\n",
              "      <td>2</td>\n",
              "      <td>$21968</td>\n",
              "      <td>04/2014</td>\n",
              "      <td>2014</td>\n",
              "      <td>No</td>\n",
              "    </tr>\n",
              "    <tr>\n",
              "      <th>2</th>\n",
              "      <td>3701</td>\n",
              "      <td>825</td>\n",
              "      <td>Visa</td>\n",
              "      <td>Debit</td>\n",
              "      <td>4582313478255491</td>\n",
              "      <td>02/2024</td>\n",
              "      <td>719</td>\n",
              "      <td>YES</td>\n",
              "      <td>2</td>\n",
              "      <td>$46414</td>\n",
              "      <td>07/2003</td>\n",
              "      <td>2004</td>\n",
              "      <td>No</td>\n",
              "    </tr>\n",
              "    <tr>\n",
              "      <th>3</th>\n",
              "      <td>42</td>\n",
              "      <td>825</td>\n",
              "      <td>Visa</td>\n",
              "      <td>Credit</td>\n",
              "      <td>4879494103069057</td>\n",
              "      <td>08/2024</td>\n",
              "      <td>693</td>\n",
              "      <td>NO</td>\n",
              "      <td>1</td>\n",
              "      <td>$12400</td>\n",
              "      <td>01/2003</td>\n",
              "      <td>2012</td>\n",
              "      <td>No</td>\n",
              "    </tr>\n",
              "    <tr>\n",
              "      <th>4</th>\n",
              "      <td>4659</td>\n",
              "      <td>825</td>\n",
              "      <td>Mastercard</td>\n",
              "      <td>Debit (Prepaid)</td>\n",
              "      <td>5722874738736011</td>\n",
              "      <td>03/2009</td>\n",
              "      <td>75</td>\n",
              "      <td>YES</td>\n",
              "      <td>1</td>\n",
              "      <td>$28</td>\n",
              "      <td>09/2008</td>\n",
              "      <td>2009</td>\n",
              "      <td>No</td>\n",
              "    </tr>\n",
              "  </tbody>\n",
              "</table>\n",
              "</div>\n",
              "    <div class=\"colab-df-buttons\">\n",
              "\n",
              "  <div class=\"colab-df-container\">\n",
              "    <button class=\"colab-df-convert\" onclick=\"convertToInteractive('df-0196ff8a-8e03-4f10-8e5e-77cc855af22e')\"\n",
              "            title=\"Convert this dataframe to an interactive table.\"\n",
              "            style=\"display:none;\">\n",
              "\n",
              "  <svg xmlns=\"http://www.w3.org/2000/svg\" height=\"24px\" viewBox=\"0 -960 960 960\">\n",
              "    <path d=\"M120-120v-720h720v720H120Zm60-500h600v-160H180v160Zm220 220h160v-160H400v160Zm0 220h160v-160H400v160ZM180-400h160v-160H180v160Zm440 0h160v-160H620v160ZM180-180h160v-160H180v160Zm440 0h160v-160H620v160Z\"/>\n",
              "  </svg>\n",
              "    </button>\n",
              "\n",
              "  <style>\n",
              "    .colab-df-container {\n",
              "      display:flex;\n",
              "      gap: 12px;\n",
              "    }\n",
              "\n",
              "    .colab-df-convert {\n",
              "      background-color: #E8F0FE;\n",
              "      border: none;\n",
              "      border-radius: 50%;\n",
              "      cursor: pointer;\n",
              "      display: none;\n",
              "      fill: #1967D2;\n",
              "      height: 32px;\n",
              "      padding: 0 0 0 0;\n",
              "      width: 32px;\n",
              "    }\n",
              "\n",
              "    .colab-df-convert:hover {\n",
              "      background-color: #E2EBFA;\n",
              "      box-shadow: 0px 1px 2px rgba(60, 64, 67, 0.3), 0px 1px 3px 1px rgba(60, 64, 67, 0.15);\n",
              "      fill: #174EA6;\n",
              "    }\n",
              "\n",
              "    .colab-df-buttons div {\n",
              "      margin-bottom: 4px;\n",
              "    }\n",
              "\n",
              "    [theme=dark] .colab-df-convert {\n",
              "      background-color: #3B4455;\n",
              "      fill: #D2E3FC;\n",
              "    }\n",
              "\n",
              "    [theme=dark] .colab-df-convert:hover {\n",
              "      background-color: #434B5C;\n",
              "      box-shadow: 0px 1px 3px 1px rgba(0, 0, 0, 0.15);\n",
              "      filter: drop-shadow(0px 1px 2px rgba(0, 0, 0, 0.3));\n",
              "      fill: #FFFFFF;\n",
              "    }\n",
              "  </style>\n",
              "\n",
              "    <script>\n",
              "      const buttonEl =\n",
              "        document.querySelector('#df-0196ff8a-8e03-4f10-8e5e-77cc855af22e button.colab-df-convert');\n",
              "      buttonEl.style.display =\n",
              "        google.colab.kernel.accessAllowed ? 'block' : 'none';\n",
              "\n",
              "      async function convertToInteractive(key) {\n",
              "        const element = document.querySelector('#df-0196ff8a-8e03-4f10-8e5e-77cc855af22e');\n",
              "        const dataTable =\n",
              "          await google.colab.kernel.invokeFunction('convertToInteractive',\n",
              "                                                    [key], {});\n",
              "        if (!dataTable) return;\n",
              "\n",
              "        const docLinkHtml = 'Like what you see? Visit the ' +\n",
              "          '<a target=\"_blank\" href=https://colab.research.google.com/notebooks/data_table.ipynb>data table notebook</a>'\n",
              "          + ' to learn more about interactive tables.';\n",
              "        element.innerHTML = '';\n",
              "        dataTable['output_type'] = 'display_data';\n",
              "        await google.colab.output.renderOutput(dataTable, element);\n",
              "        const docLink = document.createElement('div');\n",
              "        docLink.innerHTML = docLinkHtml;\n",
              "        element.appendChild(docLink);\n",
              "      }\n",
              "    </script>\n",
              "  </div>\n",
              "\n",
              "\n",
              "<div id=\"df-575eeac9-2068-4a8f-ac4f-49f2440956a9\">\n",
              "  <button class=\"colab-df-quickchart\" onclick=\"quickchart('df-575eeac9-2068-4a8f-ac4f-49f2440956a9')\"\n",
              "            title=\"Suggest charts\"\n",
              "            style=\"display:none;\">\n",
              "\n",
              "<svg xmlns=\"http://www.w3.org/2000/svg\" height=\"24px\"viewBox=\"0 0 24 24\"\n",
              "     width=\"24px\">\n",
              "    <g>\n",
              "        <path d=\"M19 3H5c-1.1 0-2 .9-2 2v14c0 1.1.9 2 2 2h14c1.1 0 2-.9 2-2V5c0-1.1-.9-2-2-2zM9 17H7v-7h2v7zm4 0h-2V7h2v10zm4 0h-2v-4h2v4z\"/>\n",
              "    </g>\n",
              "</svg>\n",
              "  </button>\n",
              "\n",
              "<style>\n",
              "  .colab-df-quickchart {\n",
              "      --bg-color: #E8F0FE;\n",
              "      --fill-color: #1967D2;\n",
              "      --hover-bg-color: #E2EBFA;\n",
              "      --hover-fill-color: #174EA6;\n",
              "      --disabled-fill-color: #AAA;\n",
              "      --disabled-bg-color: #DDD;\n",
              "  }\n",
              "\n",
              "  [theme=dark] .colab-df-quickchart {\n",
              "      --bg-color: #3B4455;\n",
              "      --fill-color: #D2E3FC;\n",
              "      --hover-bg-color: #434B5C;\n",
              "      --hover-fill-color: #FFFFFF;\n",
              "      --disabled-bg-color: #3B4455;\n",
              "      --disabled-fill-color: #666;\n",
              "  }\n",
              "\n",
              "  .colab-df-quickchart {\n",
              "    background-color: var(--bg-color);\n",
              "    border: none;\n",
              "    border-radius: 50%;\n",
              "    cursor: pointer;\n",
              "    display: none;\n",
              "    fill: var(--fill-color);\n",
              "    height: 32px;\n",
              "    padding: 0;\n",
              "    width: 32px;\n",
              "  }\n",
              "\n",
              "  .colab-df-quickchart:hover {\n",
              "    background-color: var(--hover-bg-color);\n",
              "    box-shadow: 0 1px 2px rgba(60, 64, 67, 0.3), 0 1px 3px 1px rgba(60, 64, 67, 0.15);\n",
              "    fill: var(--button-hover-fill-color);\n",
              "  }\n",
              "\n",
              "  .colab-df-quickchart-complete:disabled,\n",
              "  .colab-df-quickchart-complete:disabled:hover {\n",
              "    background-color: var(--disabled-bg-color);\n",
              "    fill: var(--disabled-fill-color);\n",
              "    box-shadow: none;\n",
              "  }\n",
              "\n",
              "  .colab-df-spinner {\n",
              "    border: 2px solid var(--fill-color);\n",
              "    border-color: transparent;\n",
              "    border-bottom-color: var(--fill-color);\n",
              "    animation:\n",
              "      spin 1s steps(1) infinite;\n",
              "  }\n",
              "\n",
              "  @keyframes spin {\n",
              "    0% {\n",
              "      border-color: transparent;\n",
              "      border-bottom-color: var(--fill-color);\n",
              "      border-left-color: var(--fill-color);\n",
              "    }\n",
              "    20% {\n",
              "      border-color: transparent;\n",
              "      border-left-color: var(--fill-color);\n",
              "      border-top-color: var(--fill-color);\n",
              "    }\n",
              "    30% {\n",
              "      border-color: transparent;\n",
              "      border-left-color: var(--fill-color);\n",
              "      border-top-color: var(--fill-color);\n",
              "      border-right-color: var(--fill-color);\n",
              "    }\n",
              "    40% {\n",
              "      border-color: transparent;\n",
              "      border-right-color: var(--fill-color);\n",
              "      border-top-color: var(--fill-color);\n",
              "    }\n",
              "    60% {\n",
              "      border-color: transparent;\n",
              "      border-right-color: var(--fill-color);\n",
              "    }\n",
              "    80% {\n",
              "      border-color: transparent;\n",
              "      border-right-color: var(--fill-color);\n",
              "      border-bottom-color: var(--fill-color);\n",
              "    }\n",
              "    90% {\n",
              "      border-color: transparent;\n",
              "      border-bottom-color: var(--fill-color);\n",
              "    }\n",
              "  }\n",
              "</style>\n",
              "\n",
              "  <script>\n",
              "    async function quickchart(key) {\n",
              "      const quickchartButtonEl =\n",
              "        document.querySelector('#' + key + ' button');\n",
              "      quickchartButtonEl.disabled = true;  // To prevent multiple clicks.\n",
              "      quickchartButtonEl.classList.add('colab-df-spinner');\n",
              "      try {\n",
              "        const charts = await google.colab.kernel.invokeFunction(\n",
              "            'suggestCharts', [key], {});\n",
              "      } catch (error) {\n",
              "        console.error('Error during call to suggestCharts:', error);\n",
              "      }\n",
              "      quickchartButtonEl.classList.remove('colab-df-spinner');\n",
              "      quickchartButtonEl.classList.add('colab-df-quickchart-complete');\n",
              "    }\n",
              "    (() => {\n",
              "      let quickchartButtonEl =\n",
              "        document.querySelector('#df-575eeac9-2068-4a8f-ac4f-49f2440956a9 button');\n",
              "      quickchartButtonEl.style.display =\n",
              "        google.colab.kernel.accessAllowed ? 'block' : 'none';\n",
              "    })();\n",
              "  </script>\n",
              "</div>\n",
              "\n",
              "    </div>\n",
              "  </div>\n"
            ],
            "application/vnd.google.colaboratory.intrinsic+json": {
              "type": "dataframe",
              "variable_name": "df",
              "summary": "{\n  \"name\": \"df\",\n  \"rows\": 6146,\n  \"fields\": [\n    {\n      \"column\": \"id\",\n      \"properties\": {\n        \"dtype\": \"number\",\n        \"std\": 1774,\n        \"min\": 0,\n        \"max\": 6145,\n        \"num_unique_values\": 6146,\n        \"samples\": [\n          5390,\n          3414,\n          845\n        ],\n        \"semantic_type\": \"\",\n        \"description\": \"\"\n      }\n    },\n    {\n      \"column\": \"client_id\",\n      \"properties\": {\n        \"dtype\": \"number\",\n        \"std\": 578,\n        \"min\": 0,\n        \"max\": 1999,\n        \"num_unique_values\": 2000,\n        \"samples\": [\n          1642,\n          1408,\n          626\n        ],\n        \"semantic_type\": \"\",\n        \"description\": \"\"\n      }\n    },\n    {\n      \"column\": \"card_brand\",\n      \"properties\": {\n        \"dtype\": \"category\",\n        \"num_unique_values\": 4,\n        \"samples\": [\n          \"Mastercard\",\n          \"Amex\",\n          \"Visa\"\n        ],\n        \"semantic_type\": \"\",\n        \"description\": \"\"\n      }\n    },\n    {\n      \"column\": \"card_type\",\n      \"properties\": {\n        \"dtype\": \"category\",\n        \"num_unique_values\": 3,\n        \"samples\": [\n          \"Debit\",\n          \"Credit\",\n          \"Debit (Prepaid)\"\n        ],\n        \"semantic_type\": \"\",\n        \"description\": \"\"\n      }\n    },\n    {\n      \"column\": \"card_number\",\n      \"properties\": {\n        \"dtype\": \"number\",\n        \"std\": 1328582205754834,\n        \"min\": 300105541992311,\n        \"max\": 6997197066610978,\n        \"num_unique_values\": 6146,\n        \"samples\": [\n          5146038421358947,\n          309433518890778,\n          4456142342115909\n        ],\n        \"semantic_type\": \"\",\n        \"description\": \"\"\n      }\n    },\n    {\n      \"column\": \"expires\",\n      \"properties\": {\n        \"dtype\": \"object\",\n        \"num_unique_values\": 259,\n        \"samples\": [\n          \"07/2019\",\n          \"03/2005\",\n          \"02/2023\"\n        ],\n        \"semantic_type\": \"\",\n        \"description\": \"\"\n      }\n    },\n    {\n      \"column\": \"cvv\",\n      \"properties\": {\n        \"dtype\": \"number\",\n        \"std\": 289,\n        \"min\": 0,\n        \"max\": 999,\n        \"num_unique_values\": 998,\n        \"samples\": [\n          209,\n          151,\n          989\n        ],\n        \"semantic_type\": \"\",\n        \"description\": \"\"\n      }\n    },\n    {\n      \"column\": \"has_chip\",\n      \"properties\": {\n        \"dtype\": \"category\",\n        \"num_unique_values\": 2,\n        \"samples\": [\n          \"NO\",\n          \"YES\"\n        ],\n        \"semantic_type\": \"\",\n        \"description\": \"\"\n      }\n    },\n    {\n      \"column\": \"num_cards_issued\",\n      \"properties\": {\n        \"dtype\": \"number\",\n        \"std\": 0,\n        \"min\": 1,\n        \"max\": 3,\n        \"num_unique_values\": 3,\n        \"samples\": [\n          2,\n          1\n        ],\n        \"semantic_type\": \"\",\n        \"description\": \"\"\n      }\n    },\n    {\n      \"column\": \"credit_limit\",\n      \"properties\": {\n        \"dtype\": \"string\",\n        \"num_unique_values\": 3654,\n        \"samples\": [\n          \"$12760\",\n          \"$44345\"\n        ],\n        \"semantic_type\": \"\",\n        \"description\": \"\"\n      }\n    },\n    {\n      \"column\": \"acct_open_date\",\n      \"properties\": {\n        \"dtype\": \"object\",\n        \"num_unique_values\": 303,\n        \"samples\": [\n          \"04/2013\",\n          \"06/2014\"\n        ],\n        \"semantic_type\": \"\",\n        \"description\": \"\"\n      }\n    },\n    {\n      \"column\": \"year_pin_last_changed\",\n      \"properties\": {\n        \"dtype\": \"number\",\n        \"std\": 4,\n        \"min\": 2002,\n        \"max\": 2020,\n        \"num_unique_values\": 19,\n        \"samples\": [\n          2008,\n          2011\n        ],\n        \"semantic_type\": \"\",\n        \"description\": \"\"\n      }\n    },\n    {\n      \"column\": \"card_on_dark_web\",\n      \"properties\": {\n        \"dtype\": \"category\",\n        \"num_unique_values\": 1,\n        \"samples\": [\n          \"No\"\n        ],\n        \"semantic_type\": \"\",\n        \"description\": \"\"\n      }\n    }\n  ]\n}"
            }
          },
          "metadata": {},
          "execution_count": 3
        }
      ]
    },
    {
      "cell_type": "markdown",
      "source": [
        "● Inspect the dataset using Pandas functions like .info(), .describe(), .head()."
      ],
      "metadata": {
        "id": "-TjhBqcCoqa9"
      }
    },
    {
      "cell_type": "code",
      "source": [
        "df.head(10)"
      ],
      "metadata": {
        "colab": {
          "base_uri": "https://localhost:8080/",
          "height": 435
        },
        "id": "z9if0Z66ouyM",
        "outputId": "196223e0-129a-48e3-8262-42eb1fbfa12e"
      },
      "execution_count": null,
      "outputs": [
        {
          "output_type": "execute_result",
          "data": {
            "text/plain": [
              "     id  client_id  card_brand        card_type       card_number  expires  \\\n",
              "0  4524        825        Visa            Debit  4344676511950444  12/2022   \n",
              "1  2731        825        Visa            Debit  4956965974959986  12/2020   \n",
              "2  3701        825        Visa            Debit  4582313478255491  02/2024   \n",
              "3    42        825        Visa           Credit  4879494103069057  08/2024   \n",
              "4  4659        825  Mastercard  Debit (Prepaid)  5722874738736011  03/2009   \n",
              "5  4537       1746        Visa           Credit  4404898874682993  09/2003   \n",
              "6  1278       1746        Visa            Debit  4001482973848631  07/2022   \n",
              "7  3687       1746  Mastercard            Debit  5627220683410948  06/2022   \n",
              "8  3465       1746  Mastercard  Debit (Prepaid)  5711382187309326  11/2020   \n",
              "9  3754       1746  Mastercard  Debit (Prepaid)  5766121508358701  02/2023   \n",
              "\n",
              "   cvv has_chip  num_cards_issued credit_limit acct_open_date  \\\n",
              "0  623      YES                 2       $24295        09/2002   \n",
              "1  393      YES                 2       $21968        04/2014   \n",
              "2  719      YES                 2       $46414        07/2003   \n",
              "3  693       NO                 1       $12400        01/2003   \n",
              "4   75      YES                 1          $28        09/2008   \n",
              "5  736      YES                 1       $27500        09/2003   \n",
              "6  972      YES                 2       $28508        02/2011   \n",
              "7   48      YES                 2        $9022        07/2003   \n",
              "8  722      YES                 2          $54        06/2010   \n",
              "9  908      YES                 1          $99        07/2006   \n",
              "\n",
              "   year_pin_last_changed card_on_dark_web  \n",
              "0                   2008               No  \n",
              "1                   2014               No  \n",
              "2                   2004               No  \n",
              "3                   2012               No  \n",
              "4                   2009               No  \n",
              "5                   2012               No  \n",
              "6                   2011               No  \n",
              "7                   2015               No  \n",
              "8                   2015               No  \n",
              "9                   2012               No  "
            ],
            "text/html": [
              "\n",
              "  <div id=\"df-ffe34c26-2c49-4528-bbe5-7b236ad8644e\" class=\"colab-df-container\">\n",
              "    <div>\n",
              "<style scoped>\n",
              "    .dataframe tbody tr th:only-of-type {\n",
              "        vertical-align: middle;\n",
              "    }\n",
              "\n",
              "    .dataframe tbody tr th {\n",
              "        vertical-align: top;\n",
              "    }\n",
              "\n",
              "    .dataframe thead th {\n",
              "        text-align: right;\n",
              "    }\n",
              "</style>\n",
              "<table border=\"1\" class=\"dataframe\">\n",
              "  <thead>\n",
              "    <tr style=\"text-align: right;\">\n",
              "      <th></th>\n",
              "      <th>id</th>\n",
              "      <th>client_id</th>\n",
              "      <th>card_brand</th>\n",
              "      <th>card_type</th>\n",
              "      <th>card_number</th>\n",
              "      <th>expires</th>\n",
              "      <th>cvv</th>\n",
              "      <th>has_chip</th>\n",
              "      <th>num_cards_issued</th>\n",
              "      <th>credit_limit</th>\n",
              "      <th>acct_open_date</th>\n",
              "      <th>year_pin_last_changed</th>\n",
              "      <th>card_on_dark_web</th>\n",
              "    </tr>\n",
              "  </thead>\n",
              "  <tbody>\n",
              "    <tr>\n",
              "      <th>0</th>\n",
              "      <td>4524</td>\n",
              "      <td>825</td>\n",
              "      <td>Visa</td>\n",
              "      <td>Debit</td>\n",
              "      <td>4344676511950444</td>\n",
              "      <td>12/2022</td>\n",
              "      <td>623</td>\n",
              "      <td>YES</td>\n",
              "      <td>2</td>\n",
              "      <td>$24295</td>\n",
              "      <td>09/2002</td>\n",
              "      <td>2008</td>\n",
              "      <td>No</td>\n",
              "    </tr>\n",
              "    <tr>\n",
              "      <th>1</th>\n",
              "      <td>2731</td>\n",
              "      <td>825</td>\n",
              "      <td>Visa</td>\n",
              "      <td>Debit</td>\n",
              "      <td>4956965974959986</td>\n",
              "      <td>12/2020</td>\n",
              "      <td>393</td>\n",
              "      <td>YES</td>\n",
              "      <td>2</td>\n",
              "      <td>$21968</td>\n",
              "      <td>04/2014</td>\n",
              "      <td>2014</td>\n",
              "      <td>No</td>\n",
              "    </tr>\n",
              "    <tr>\n",
              "      <th>2</th>\n",
              "      <td>3701</td>\n",
              "      <td>825</td>\n",
              "      <td>Visa</td>\n",
              "      <td>Debit</td>\n",
              "      <td>4582313478255491</td>\n",
              "      <td>02/2024</td>\n",
              "      <td>719</td>\n",
              "      <td>YES</td>\n",
              "      <td>2</td>\n",
              "      <td>$46414</td>\n",
              "      <td>07/2003</td>\n",
              "      <td>2004</td>\n",
              "      <td>No</td>\n",
              "    </tr>\n",
              "    <tr>\n",
              "      <th>3</th>\n",
              "      <td>42</td>\n",
              "      <td>825</td>\n",
              "      <td>Visa</td>\n",
              "      <td>Credit</td>\n",
              "      <td>4879494103069057</td>\n",
              "      <td>08/2024</td>\n",
              "      <td>693</td>\n",
              "      <td>NO</td>\n",
              "      <td>1</td>\n",
              "      <td>$12400</td>\n",
              "      <td>01/2003</td>\n",
              "      <td>2012</td>\n",
              "      <td>No</td>\n",
              "    </tr>\n",
              "    <tr>\n",
              "      <th>4</th>\n",
              "      <td>4659</td>\n",
              "      <td>825</td>\n",
              "      <td>Mastercard</td>\n",
              "      <td>Debit (Prepaid)</td>\n",
              "      <td>5722874738736011</td>\n",
              "      <td>03/2009</td>\n",
              "      <td>75</td>\n",
              "      <td>YES</td>\n",
              "      <td>1</td>\n",
              "      <td>$28</td>\n",
              "      <td>09/2008</td>\n",
              "      <td>2009</td>\n",
              "      <td>No</td>\n",
              "    </tr>\n",
              "    <tr>\n",
              "      <th>5</th>\n",
              "      <td>4537</td>\n",
              "      <td>1746</td>\n",
              "      <td>Visa</td>\n",
              "      <td>Credit</td>\n",
              "      <td>4404898874682993</td>\n",
              "      <td>09/2003</td>\n",
              "      <td>736</td>\n",
              "      <td>YES</td>\n",
              "      <td>1</td>\n",
              "      <td>$27500</td>\n",
              "      <td>09/2003</td>\n",
              "      <td>2012</td>\n",
              "      <td>No</td>\n",
              "    </tr>\n",
              "    <tr>\n",
              "      <th>6</th>\n",
              "      <td>1278</td>\n",
              "      <td>1746</td>\n",
              "      <td>Visa</td>\n",
              "      <td>Debit</td>\n",
              "      <td>4001482973848631</td>\n",
              "      <td>07/2022</td>\n",
              "      <td>972</td>\n",
              "      <td>YES</td>\n",
              "      <td>2</td>\n",
              "      <td>$28508</td>\n",
              "      <td>02/2011</td>\n",
              "      <td>2011</td>\n",
              "      <td>No</td>\n",
              "    </tr>\n",
              "    <tr>\n",
              "      <th>7</th>\n",
              "      <td>3687</td>\n",
              "      <td>1746</td>\n",
              "      <td>Mastercard</td>\n",
              "      <td>Debit</td>\n",
              "      <td>5627220683410948</td>\n",
              "      <td>06/2022</td>\n",
              "      <td>48</td>\n",
              "      <td>YES</td>\n",
              "      <td>2</td>\n",
              "      <td>$9022</td>\n",
              "      <td>07/2003</td>\n",
              "      <td>2015</td>\n",
              "      <td>No</td>\n",
              "    </tr>\n",
              "    <tr>\n",
              "      <th>8</th>\n",
              "      <td>3465</td>\n",
              "      <td>1746</td>\n",
              "      <td>Mastercard</td>\n",
              "      <td>Debit (Prepaid)</td>\n",
              "      <td>5711382187309326</td>\n",
              "      <td>11/2020</td>\n",
              "      <td>722</td>\n",
              "      <td>YES</td>\n",
              "      <td>2</td>\n",
              "      <td>$54</td>\n",
              "      <td>06/2010</td>\n",
              "      <td>2015</td>\n",
              "      <td>No</td>\n",
              "    </tr>\n",
              "    <tr>\n",
              "      <th>9</th>\n",
              "      <td>3754</td>\n",
              "      <td>1746</td>\n",
              "      <td>Mastercard</td>\n",
              "      <td>Debit (Prepaid)</td>\n",
              "      <td>5766121508358701</td>\n",
              "      <td>02/2023</td>\n",
              "      <td>908</td>\n",
              "      <td>YES</td>\n",
              "      <td>1</td>\n",
              "      <td>$99</td>\n",
              "      <td>07/2006</td>\n",
              "      <td>2012</td>\n",
              "      <td>No</td>\n",
              "    </tr>\n",
              "  </tbody>\n",
              "</table>\n",
              "</div>\n",
              "    <div class=\"colab-df-buttons\">\n",
              "\n",
              "  <div class=\"colab-df-container\">\n",
              "    <button class=\"colab-df-convert\" onclick=\"convertToInteractive('df-ffe34c26-2c49-4528-bbe5-7b236ad8644e')\"\n",
              "            title=\"Convert this dataframe to an interactive table.\"\n",
              "            style=\"display:none;\">\n",
              "\n",
              "  <svg xmlns=\"http://www.w3.org/2000/svg\" height=\"24px\" viewBox=\"0 -960 960 960\">\n",
              "    <path d=\"M120-120v-720h720v720H120Zm60-500h600v-160H180v160Zm220 220h160v-160H400v160Zm0 220h160v-160H400v160ZM180-400h160v-160H180v160Zm440 0h160v-160H620v160ZM180-180h160v-160H180v160Zm440 0h160v-160H620v160Z\"/>\n",
              "  </svg>\n",
              "    </button>\n",
              "\n",
              "  <style>\n",
              "    .colab-df-container {\n",
              "      display:flex;\n",
              "      gap: 12px;\n",
              "    }\n",
              "\n",
              "    .colab-df-convert {\n",
              "      background-color: #E8F0FE;\n",
              "      border: none;\n",
              "      border-radius: 50%;\n",
              "      cursor: pointer;\n",
              "      display: none;\n",
              "      fill: #1967D2;\n",
              "      height: 32px;\n",
              "      padding: 0 0 0 0;\n",
              "      width: 32px;\n",
              "    }\n",
              "\n",
              "    .colab-df-convert:hover {\n",
              "      background-color: #E2EBFA;\n",
              "      box-shadow: 0px 1px 2px rgba(60, 64, 67, 0.3), 0px 1px 3px 1px rgba(60, 64, 67, 0.15);\n",
              "      fill: #174EA6;\n",
              "    }\n",
              "\n",
              "    .colab-df-buttons div {\n",
              "      margin-bottom: 4px;\n",
              "    }\n",
              "\n",
              "    [theme=dark] .colab-df-convert {\n",
              "      background-color: #3B4455;\n",
              "      fill: #D2E3FC;\n",
              "    }\n",
              "\n",
              "    [theme=dark] .colab-df-convert:hover {\n",
              "      background-color: #434B5C;\n",
              "      box-shadow: 0px 1px 3px 1px rgba(0, 0, 0, 0.15);\n",
              "      filter: drop-shadow(0px 1px 2px rgba(0, 0, 0, 0.3));\n",
              "      fill: #FFFFFF;\n",
              "    }\n",
              "  </style>\n",
              "\n",
              "    <script>\n",
              "      const buttonEl =\n",
              "        document.querySelector('#df-ffe34c26-2c49-4528-bbe5-7b236ad8644e button.colab-df-convert');\n",
              "      buttonEl.style.display =\n",
              "        google.colab.kernel.accessAllowed ? 'block' : 'none';\n",
              "\n",
              "      async function convertToInteractive(key) {\n",
              "        const element = document.querySelector('#df-ffe34c26-2c49-4528-bbe5-7b236ad8644e');\n",
              "        const dataTable =\n",
              "          await google.colab.kernel.invokeFunction('convertToInteractive',\n",
              "                                                    [key], {});\n",
              "        if (!dataTable) return;\n",
              "\n",
              "        const docLinkHtml = 'Like what you see? Visit the ' +\n",
              "          '<a target=\"_blank\" href=https://colab.research.google.com/notebooks/data_table.ipynb>data table notebook</a>'\n",
              "          + ' to learn more about interactive tables.';\n",
              "        element.innerHTML = '';\n",
              "        dataTable['output_type'] = 'display_data';\n",
              "        await google.colab.output.renderOutput(dataTable, element);\n",
              "        const docLink = document.createElement('div');\n",
              "        docLink.innerHTML = docLinkHtml;\n",
              "        element.appendChild(docLink);\n",
              "      }\n",
              "    </script>\n",
              "  </div>\n",
              "\n",
              "\n",
              "<div id=\"df-2b254811-9841-421e-9c8e-b710d43ccca3\">\n",
              "  <button class=\"colab-df-quickchart\" onclick=\"quickchart('df-2b254811-9841-421e-9c8e-b710d43ccca3')\"\n",
              "            title=\"Suggest charts\"\n",
              "            style=\"display:none;\">\n",
              "\n",
              "<svg xmlns=\"http://www.w3.org/2000/svg\" height=\"24px\"viewBox=\"0 0 24 24\"\n",
              "     width=\"24px\">\n",
              "    <g>\n",
              "        <path d=\"M19 3H5c-1.1 0-2 .9-2 2v14c0 1.1.9 2 2 2h14c1.1 0 2-.9 2-2V5c0-1.1-.9-2-2-2zM9 17H7v-7h2v7zm4 0h-2V7h2v10zm4 0h-2v-4h2v4z\"/>\n",
              "    </g>\n",
              "</svg>\n",
              "  </button>\n",
              "\n",
              "<style>\n",
              "  .colab-df-quickchart {\n",
              "      --bg-color: #E8F0FE;\n",
              "      --fill-color: #1967D2;\n",
              "      --hover-bg-color: #E2EBFA;\n",
              "      --hover-fill-color: #174EA6;\n",
              "      --disabled-fill-color: #AAA;\n",
              "      --disabled-bg-color: #DDD;\n",
              "  }\n",
              "\n",
              "  [theme=dark] .colab-df-quickchart {\n",
              "      --bg-color: #3B4455;\n",
              "      --fill-color: #D2E3FC;\n",
              "      --hover-bg-color: #434B5C;\n",
              "      --hover-fill-color: #FFFFFF;\n",
              "      --disabled-bg-color: #3B4455;\n",
              "      --disabled-fill-color: #666;\n",
              "  }\n",
              "\n",
              "  .colab-df-quickchart {\n",
              "    background-color: var(--bg-color);\n",
              "    border: none;\n",
              "    border-radius: 50%;\n",
              "    cursor: pointer;\n",
              "    display: none;\n",
              "    fill: var(--fill-color);\n",
              "    height: 32px;\n",
              "    padding: 0;\n",
              "    width: 32px;\n",
              "  }\n",
              "\n",
              "  .colab-df-quickchart:hover {\n",
              "    background-color: var(--hover-bg-color);\n",
              "    box-shadow: 0 1px 2px rgba(60, 64, 67, 0.3), 0 1px 3px 1px rgba(60, 64, 67, 0.15);\n",
              "    fill: var(--button-hover-fill-color);\n",
              "  }\n",
              "\n",
              "  .colab-df-quickchart-complete:disabled,\n",
              "  .colab-df-quickchart-complete:disabled:hover {\n",
              "    background-color: var(--disabled-bg-color);\n",
              "    fill: var(--disabled-fill-color);\n",
              "    box-shadow: none;\n",
              "  }\n",
              "\n",
              "  .colab-df-spinner {\n",
              "    border: 2px solid var(--fill-color);\n",
              "    border-color: transparent;\n",
              "    border-bottom-color: var(--fill-color);\n",
              "    animation:\n",
              "      spin 1s steps(1) infinite;\n",
              "  }\n",
              "\n",
              "  @keyframes spin {\n",
              "    0% {\n",
              "      border-color: transparent;\n",
              "      border-bottom-color: var(--fill-color);\n",
              "      border-left-color: var(--fill-color);\n",
              "    }\n",
              "    20% {\n",
              "      border-color: transparent;\n",
              "      border-left-color: var(--fill-color);\n",
              "      border-top-color: var(--fill-color);\n",
              "    }\n",
              "    30% {\n",
              "      border-color: transparent;\n",
              "      border-left-color: var(--fill-color);\n",
              "      border-top-color: var(--fill-color);\n",
              "      border-right-color: var(--fill-color);\n",
              "    }\n",
              "    40% {\n",
              "      border-color: transparent;\n",
              "      border-right-color: var(--fill-color);\n",
              "      border-top-color: var(--fill-color);\n",
              "    }\n",
              "    60% {\n",
              "      border-color: transparent;\n",
              "      border-right-color: var(--fill-color);\n",
              "    }\n",
              "    80% {\n",
              "      border-color: transparent;\n",
              "      border-right-color: var(--fill-color);\n",
              "      border-bottom-color: var(--fill-color);\n",
              "    }\n",
              "    90% {\n",
              "      border-color: transparent;\n",
              "      border-bottom-color: var(--fill-color);\n",
              "    }\n",
              "  }\n",
              "</style>\n",
              "\n",
              "  <script>\n",
              "    async function quickchart(key) {\n",
              "      const quickchartButtonEl =\n",
              "        document.querySelector('#' + key + ' button');\n",
              "      quickchartButtonEl.disabled = true;  // To prevent multiple clicks.\n",
              "      quickchartButtonEl.classList.add('colab-df-spinner');\n",
              "      try {\n",
              "        const charts = await google.colab.kernel.invokeFunction(\n",
              "            'suggestCharts', [key], {});\n",
              "      } catch (error) {\n",
              "        console.error('Error during call to suggestCharts:', error);\n",
              "      }\n",
              "      quickchartButtonEl.classList.remove('colab-df-spinner');\n",
              "      quickchartButtonEl.classList.add('colab-df-quickchart-complete');\n",
              "    }\n",
              "    (() => {\n",
              "      let quickchartButtonEl =\n",
              "        document.querySelector('#df-2b254811-9841-421e-9c8e-b710d43ccca3 button');\n",
              "      quickchartButtonEl.style.display =\n",
              "        google.colab.kernel.accessAllowed ? 'block' : 'none';\n",
              "    })();\n",
              "  </script>\n",
              "</div>\n",
              "\n",
              "    </div>\n",
              "  </div>\n"
            ],
            "application/vnd.google.colaboratory.intrinsic+json": {
              "type": "dataframe",
              "variable_name": "df",
              "summary": "{\n  \"name\": \"df\",\n  \"rows\": 6146,\n  \"fields\": [\n    {\n      \"column\": \"id\",\n      \"properties\": {\n        \"dtype\": \"number\",\n        \"std\": 1774,\n        \"min\": 0,\n        \"max\": 6145,\n        \"num_unique_values\": 6146,\n        \"samples\": [\n          5390,\n          3414,\n          845\n        ],\n        \"semantic_type\": \"\",\n        \"description\": \"\"\n      }\n    },\n    {\n      \"column\": \"client_id\",\n      \"properties\": {\n        \"dtype\": \"number\",\n        \"std\": 578,\n        \"min\": 0,\n        \"max\": 1999,\n        \"num_unique_values\": 2000,\n        \"samples\": [\n          1642,\n          1408,\n          626\n        ],\n        \"semantic_type\": \"\",\n        \"description\": \"\"\n      }\n    },\n    {\n      \"column\": \"card_brand\",\n      \"properties\": {\n        \"dtype\": \"category\",\n        \"num_unique_values\": 4,\n        \"samples\": [\n          \"Mastercard\",\n          \"Amex\",\n          \"Visa\"\n        ],\n        \"semantic_type\": \"\",\n        \"description\": \"\"\n      }\n    },\n    {\n      \"column\": \"card_type\",\n      \"properties\": {\n        \"dtype\": \"category\",\n        \"num_unique_values\": 3,\n        \"samples\": [\n          \"Debit\",\n          \"Credit\",\n          \"Debit (Prepaid)\"\n        ],\n        \"semantic_type\": \"\",\n        \"description\": \"\"\n      }\n    },\n    {\n      \"column\": \"card_number\",\n      \"properties\": {\n        \"dtype\": \"number\",\n        \"std\": 1328582205754834,\n        \"min\": 300105541992311,\n        \"max\": 6997197066610978,\n        \"num_unique_values\": 6146,\n        \"samples\": [\n          5146038421358947,\n          309433518890778,\n          4456142342115909\n        ],\n        \"semantic_type\": \"\",\n        \"description\": \"\"\n      }\n    },\n    {\n      \"column\": \"expires\",\n      \"properties\": {\n        \"dtype\": \"object\",\n        \"num_unique_values\": 259,\n        \"samples\": [\n          \"07/2019\",\n          \"03/2005\",\n          \"02/2023\"\n        ],\n        \"semantic_type\": \"\",\n        \"description\": \"\"\n      }\n    },\n    {\n      \"column\": \"cvv\",\n      \"properties\": {\n        \"dtype\": \"number\",\n        \"std\": 289,\n        \"min\": 0,\n        \"max\": 999,\n        \"num_unique_values\": 998,\n        \"samples\": [\n          209,\n          151,\n          989\n        ],\n        \"semantic_type\": \"\",\n        \"description\": \"\"\n      }\n    },\n    {\n      \"column\": \"has_chip\",\n      \"properties\": {\n        \"dtype\": \"category\",\n        \"num_unique_values\": 2,\n        \"samples\": [\n          \"NO\",\n          \"YES\"\n        ],\n        \"semantic_type\": \"\",\n        \"description\": \"\"\n      }\n    },\n    {\n      \"column\": \"num_cards_issued\",\n      \"properties\": {\n        \"dtype\": \"number\",\n        \"std\": 0,\n        \"min\": 1,\n        \"max\": 3,\n        \"num_unique_values\": 3,\n        \"samples\": [\n          2,\n          1\n        ],\n        \"semantic_type\": \"\",\n        \"description\": \"\"\n      }\n    },\n    {\n      \"column\": \"credit_limit\",\n      \"properties\": {\n        \"dtype\": \"string\",\n        \"num_unique_values\": 3654,\n        \"samples\": [\n          \"$12760\",\n          \"$44345\"\n        ],\n        \"semantic_type\": \"\",\n        \"description\": \"\"\n      }\n    },\n    {\n      \"column\": \"acct_open_date\",\n      \"properties\": {\n        \"dtype\": \"object\",\n        \"num_unique_values\": 303,\n        \"samples\": [\n          \"04/2013\",\n          \"06/2014\"\n        ],\n        \"semantic_type\": \"\",\n        \"description\": \"\"\n      }\n    },\n    {\n      \"column\": \"year_pin_last_changed\",\n      \"properties\": {\n        \"dtype\": \"number\",\n        \"std\": 4,\n        \"min\": 2002,\n        \"max\": 2020,\n        \"num_unique_values\": 19,\n        \"samples\": [\n          2008,\n          2011\n        ],\n        \"semantic_type\": \"\",\n        \"description\": \"\"\n      }\n    },\n    {\n      \"column\": \"card_on_dark_web\",\n      \"properties\": {\n        \"dtype\": \"category\",\n        \"num_unique_values\": 1,\n        \"samples\": [\n          \"No\"\n        ],\n        \"semantic_type\": \"\",\n        \"description\": \"\"\n      }\n    }\n  ]\n}"
            }
          },
          "metadata": {},
          "execution_count": 4
        }
      ]
    },
    {
      "cell_type": "code",
      "source": [
        "df.info()"
      ],
      "metadata": {
        "colab": {
          "base_uri": "https://localhost:8080/"
        },
        "id": "oEAUF4cAozhF",
        "outputId": "b1270f4c-00b2-4625-af6e-49652271501b"
      },
      "execution_count": null,
      "outputs": [
        {
          "output_type": "stream",
          "name": "stdout",
          "text": [
            "<class 'pandas.core.frame.DataFrame'>\n",
            "RangeIndex: 6146 entries, 0 to 6145\n",
            "Data columns (total 13 columns):\n",
            " #   Column                 Non-Null Count  Dtype \n",
            "---  ------                 --------------  ----- \n",
            " 0   id                     6146 non-null   int64 \n",
            " 1   client_id              6146 non-null   int64 \n",
            " 2   card_brand             6146 non-null   object\n",
            " 3   card_type              6146 non-null   object\n",
            " 4   card_number            6146 non-null   int64 \n",
            " 5   expires                6146 non-null   object\n",
            " 6   cvv                    6146 non-null   int64 \n",
            " 7   has_chip               6146 non-null   object\n",
            " 8   num_cards_issued       6146 non-null   int64 \n",
            " 9   credit_limit           6146 non-null   object\n",
            " 10  acct_open_date         6146 non-null   object\n",
            " 11  year_pin_last_changed  6146 non-null   int64 \n",
            " 12  card_on_dark_web       6146 non-null   object\n",
            "dtypes: int64(6), object(7)\n",
            "memory usage: 624.3+ KB\n"
          ]
        }
      ]
    },
    {
      "cell_type": "code",
      "source": [
        "df.describe()"
      ],
      "metadata": {
        "colab": {
          "base_uri": "https://localhost:8080/",
          "height": 300
        },
        "id": "SqlD0uB4pEcl",
        "outputId": "c57afa72-d259-4692-eef3-6a85eb5baf09"
      },
      "execution_count": null,
      "outputs": [
        {
          "output_type": "execute_result",
          "data": {
            "text/plain": [
              "                id    client_id   card_number          cvv  num_cards_issued  \\\n",
              "count  6146.000000  6146.000000  6.146000e+03  6146.000000       6146.000000   \n",
              "mean   3072.500000   994.939636  4.820426e+15   506.220794          1.503091   \n",
              "std    1774.341709   578.614626  1.328582e+15   289.431123          0.519191   \n",
              "min       0.000000     0.000000  3.001055e+14     0.000000          1.000000   \n",
              "25%    1536.250000   492.250000  4.486365e+15   257.000000          1.000000   \n",
              "50%    3072.500000   992.000000  5.108957e+15   516.500000          1.000000   \n",
              "75%    4608.750000  1495.000000  5.585237e+15   756.000000          2.000000   \n",
              "max    6145.000000  1999.000000  6.997197e+15   999.000000          3.000000   \n",
              "\n",
              "       year_pin_last_changed  \n",
              "count            6146.000000  \n",
              "mean             2013.436707  \n",
              "std                 4.270699  \n",
              "min              2002.000000  \n",
              "25%              2010.000000  \n",
              "50%              2013.000000  \n",
              "75%              2017.000000  \n",
              "max              2020.000000  "
            ],
            "text/html": [
              "\n",
              "  <div id=\"df-5fff78d2-92c0-4e14-8c8a-138ca8c57d26\" class=\"colab-df-container\">\n",
              "    <div>\n",
              "<style scoped>\n",
              "    .dataframe tbody tr th:only-of-type {\n",
              "        vertical-align: middle;\n",
              "    }\n",
              "\n",
              "    .dataframe tbody tr th {\n",
              "        vertical-align: top;\n",
              "    }\n",
              "\n",
              "    .dataframe thead th {\n",
              "        text-align: right;\n",
              "    }\n",
              "</style>\n",
              "<table border=\"1\" class=\"dataframe\">\n",
              "  <thead>\n",
              "    <tr style=\"text-align: right;\">\n",
              "      <th></th>\n",
              "      <th>id</th>\n",
              "      <th>client_id</th>\n",
              "      <th>card_number</th>\n",
              "      <th>cvv</th>\n",
              "      <th>num_cards_issued</th>\n",
              "      <th>year_pin_last_changed</th>\n",
              "    </tr>\n",
              "  </thead>\n",
              "  <tbody>\n",
              "    <tr>\n",
              "      <th>count</th>\n",
              "      <td>6146.000000</td>\n",
              "      <td>6146.000000</td>\n",
              "      <td>6.146000e+03</td>\n",
              "      <td>6146.000000</td>\n",
              "      <td>6146.000000</td>\n",
              "      <td>6146.000000</td>\n",
              "    </tr>\n",
              "    <tr>\n",
              "      <th>mean</th>\n",
              "      <td>3072.500000</td>\n",
              "      <td>994.939636</td>\n",
              "      <td>4.820426e+15</td>\n",
              "      <td>506.220794</td>\n",
              "      <td>1.503091</td>\n",
              "      <td>2013.436707</td>\n",
              "    </tr>\n",
              "    <tr>\n",
              "      <th>std</th>\n",
              "      <td>1774.341709</td>\n",
              "      <td>578.614626</td>\n",
              "      <td>1.328582e+15</td>\n",
              "      <td>289.431123</td>\n",
              "      <td>0.519191</td>\n",
              "      <td>4.270699</td>\n",
              "    </tr>\n",
              "    <tr>\n",
              "      <th>min</th>\n",
              "      <td>0.000000</td>\n",
              "      <td>0.000000</td>\n",
              "      <td>3.001055e+14</td>\n",
              "      <td>0.000000</td>\n",
              "      <td>1.000000</td>\n",
              "      <td>2002.000000</td>\n",
              "    </tr>\n",
              "    <tr>\n",
              "      <th>25%</th>\n",
              "      <td>1536.250000</td>\n",
              "      <td>492.250000</td>\n",
              "      <td>4.486365e+15</td>\n",
              "      <td>257.000000</td>\n",
              "      <td>1.000000</td>\n",
              "      <td>2010.000000</td>\n",
              "    </tr>\n",
              "    <tr>\n",
              "      <th>50%</th>\n",
              "      <td>3072.500000</td>\n",
              "      <td>992.000000</td>\n",
              "      <td>5.108957e+15</td>\n",
              "      <td>516.500000</td>\n",
              "      <td>1.000000</td>\n",
              "      <td>2013.000000</td>\n",
              "    </tr>\n",
              "    <tr>\n",
              "      <th>75%</th>\n",
              "      <td>4608.750000</td>\n",
              "      <td>1495.000000</td>\n",
              "      <td>5.585237e+15</td>\n",
              "      <td>756.000000</td>\n",
              "      <td>2.000000</td>\n",
              "      <td>2017.000000</td>\n",
              "    </tr>\n",
              "    <tr>\n",
              "      <th>max</th>\n",
              "      <td>6145.000000</td>\n",
              "      <td>1999.000000</td>\n",
              "      <td>6.997197e+15</td>\n",
              "      <td>999.000000</td>\n",
              "      <td>3.000000</td>\n",
              "      <td>2020.000000</td>\n",
              "    </tr>\n",
              "  </tbody>\n",
              "</table>\n",
              "</div>\n",
              "    <div class=\"colab-df-buttons\">\n",
              "\n",
              "  <div class=\"colab-df-container\">\n",
              "    <button class=\"colab-df-convert\" onclick=\"convertToInteractive('df-5fff78d2-92c0-4e14-8c8a-138ca8c57d26')\"\n",
              "            title=\"Convert this dataframe to an interactive table.\"\n",
              "            style=\"display:none;\">\n",
              "\n",
              "  <svg xmlns=\"http://www.w3.org/2000/svg\" height=\"24px\" viewBox=\"0 -960 960 960\">\n",
              "    <path d=\"M120-120v-720h720v720H120Zm60-500h600v-160H180v160Zm220 220h160v-160H400v160Zm0 220h160v-160H400v160ZM180-400h160v-160H180v160Zm440 0h160v-160H620v160ZM180-180h160v-160H180v160Zm440 0h160v-160H620v160Z\"/>\n",
              "  </svg>\n",
              "    </button>\n",
              "\n",
              "  <style>\n",
              "    .colab-df-container {\n",
              "      display:flex;\n",
              "      gap: 12px;\n",
              "    }\n",
              "\n",
              "    .colab-df-convert {\n",
              "      background-color: #E8F0FE;\n",
              "      border: none;\n",
              "      border-radius: 50%;\n",
              "      cursor: pointer;\n",
              "      display: none;\n",
              "      fill: #1967D2;\n",
              "      height: 32px;\n",
              "      padding: 0 0 0 0;\n",
              "      width: 32px;\n",
              "    }\n",
              "\n",
              "    .colab-df-convert:hover {\n",
              "      background-color: #E2EBFA;\n",
              "      box-shadow: 0px 1px 2px rgba(60, 64, 67, 0.3), 0px 1px 3px 1px rgba(60, 64, 67, 0.15);\n",
              "      fill: #174EA6;\n",
              "    }\n",
              "\n",
              "    .colab-df-buttons div {\n",
              "      margin-bottom: 4px;\n",
              "    }\n",
              "\n",
              "    [theme=dark] .colab-df-convert {\n",
              "      background-color: #3B4455;\n",
              "      fill: #D2E3FC;\n",
              "    }\n",
              "\n",
              "    [theme=dark] .colab-df-convert:hover {\n",
              "      background-color: #434B5C;\n",
              "      box-shadow: 0px 1px 3px 1px rgba(0, 0, 0, 0.15);\n",
              "      filter: drop-shadow(0px 1px 2px rgba(0, 0, 0, 0.3));\n",
              "      fill: #FFFFFF;\n",
              "    }\n",
              "  </style>\n",
              "\n",
              "    <script>\n",
              "      const buttonEl =\n",
              "        document.querySelector('#df-5fff78d2-92c0-4e14-8c8a-138ca8c57d26 button.colab-df-convert');\n",
              "      buttonEl.style.display =\n",
              "        google.colab.kernel.accessAllowed ? 'block' : 'none';\n",
              "\n",
              "      async function convertToInteractive(key) {\n",
              "        const element = document.querySelector('#df-5fff78d2-92c0-4e14-8c8a-138ca8c57d26');\n",
              "        const dataTable =\n",
              "          await google.colab.kernel.invokeFunction('convertToInteractive',\n",
              "                                                    [key], {});\n",
              "        if (!dataTable) return;\n",
              "\n",
              "        const docLinkHtml = 'Like what you see? Visit the ' +\n",
              "          '<a target=\"_blank\" href=https://colab.research.google.com/notebooks/data_table.ipynb>data table notebook</a>'\n",
              "          + ' to learn more about interactive tables.';\n",
              "        element.innerHTML = '';\n",
              "        dataTable['output_type'] = 'display_data';\n",
              "        await google.colab.output.renderOutput(dataTable, element);\n",
              "        const docLink = document.createElement('div');\n",
              "        docLink.innerHTML = docLinkHtml;\n",
              "        element.appendChild(docLink);\n",
              "      }\n",
              "    </script>\n",
              "  </div>\n",
              "\n",
              "\n",
              "<div id=\"df-69d44527-d71e-4754-bd27-68cc5dfc609c\">\n",
              "  <button class=\"colab-df-quickchart\" onclick=\"quickchart('df-69d44527-d71e-4754-bd27-68cc5dfc609c')\"\n",
              "            title=\"Suggest charts\"\n",
              "            style=\"display:none;\">\n",
              "\n",
              "<svg xmlns=\"http://www.w3.org/2000/svg\" height=\"24px\"viewBox=\"0 0 24 24\"\n",
              "     width=\"24px\">\n",
              "    <g>\n",
              "        <path d=\"M19 3H5c-1.1 0-2 .9-2 2v14c0 1.1.9 2 2 2h14c1.1 0 2-.9 2-2V5c0-1.1-.9-2-2-2zM9 17H7v-7h2v7zm4 0h-2V7h2v10zm4 0h-2v-4h2v4z\"/>\n",
              "    </g>\n",
              "</svg>\n",
              "  </button>\n",
              "\n",
              "<style>\n",
              "  .colab-df-quickchart {\n",
              "      --bg-color: #E8F0FE;\n",
              "      --fill-color: #1967D2;\n",
              "      --hover-bg-color: #E2EBFA;\n",
              "      --hover-fill-color: #174EA6;\n",
              "      --disabled-fill-color: #AAA;\n",
              "      --disabled-bg-color: #DDD;\n",
              "  }\n",
              "\n",
              "  [theme=dark] .colab-df-quickchart {\n",
              "      --bg-color: #3B4455;\n",
              "      --fill-color: #D2E3FC;\n",
              "      --hover-bg-color: #434B5C;\n",
              "      --hover-fill-color: #FFFFFF;\n",
              "      --disabled-bg-color: #3B4455;\n",
              "      --disabled-fill-color: #666;\n",
              "  }\n",
              "\n",
              "  .colab-df-quickchart {\n",
              "    background-color: var(--bg-color);\n",
              "    border: none;\n",
              "    border-radius: 50%;\n",
              "    cursor: pointer;\n",
              "    display: none;\n",
              "    fill: var(--fill-color);\n",
              "    height: 32px;\n",
              "    padding: 0;\n",
              "    width: 32px;\n",
              "  }\n",
              "\n",
              "  .colab-df-quickchart:hover {\n",
              "    background-color: var(--hover-bg-color);\n",
              "    box-shadow: 0 1px 2px rgba(60, 64, 67, 0.3), 0 1px 3px 1px rgba(60, 64, 67, 0.15);\n",
              "    fill: var(--button-hover-fill-color);\n",
              "  }\n",
              "\n",
              "  .colab-df-quickchart-complete:disabled,\n",
              "  .colab-df-quickchart-complete:disabled:hover {\n",
              "    background-color: var(--disabled-bg-color);\n",
              "    fill: var(--disabled-fill-color);\n",
              "    box-shadow: none;\n",
              "  }\n",
              "\n",
              "  .colab-df-spinner {\n",
              "    border: 2px solid var(--fill-color);\n",
              "    border-color: transparent;\n",
              "    border-bottom-color: var(--fill-color);\n",
              "    animation:\n",
              "      spin 1s steps(1) infinite;\n",
              "  }\n",
              "\n",
              "  @keyframes spin {\n",
              "    0% {\n",
              "      border-color: transparent;\n",
              "      border-bottom-color: var(--fill-color);\n",
              "      border-left-color: var(--fill-color);\n",
              "    }\n",
              "    20% {\n",
              "      border-color: transparent;\n",
              "      border-left-color: var(--fill-color);\n",
              "      border-top-color: var(--fill-color);\n",
              "    }\n",
              "    30% {\n",
              "      border-color: transparent;\n",
              "      border-left-color: var(--fill-color);\n",
              "      border-top-color: var(--fill-color);\n",
              "      border-right-color: var(--fill-color);\n",
              "    }\n",
              "    40% {\n",
              "      border-color: transparent;\n",
              "      border-right-color: var(--fill-color);\n",
              "      border-top-color: var(--fill-color);\n",
              "    }\n",
              "    60% {\n",
              "      border-color: transparent;\n",
              "      border-right-color: var(--fill-color);\n",
              "    }\n",
              "    80% {\n",
              "      border-color: transparent;\n",
              "      border-right-color: var(--fill-color);\n",
              "      border-bottom-color: var(--fill-color);\n",
              "    }\n",
              "    90% {\n",
              "      border-color: transparent;\n",
              "      border-bottom-color: var(--fill-color);\n",
              "    }\n",
              "  }\n",
              "</style>\n",
              "\n",
              "  <script>\n",
              "    async function quickchart(key) {\n",
              "      const quickchartButtonEl =\n",
              "        document.querySelector('#' + key + ' button');\n",
              "      quickchartButtonEl.disabled = true;  // To prevent multiple clicks.\n",
              "      quickchartButtonEl.classList.add('colab-df-spinner');\n",
              "      try {\n",
              "        const charts = await google.colab.kernel.invokeFunction(\n",
              "            'suggestCharts', [key], {});\n",
              "      } catch (error) {\n",
              "        console.error('Error during call to suggestCharts:', error);\n",
              "      }\n",
              "      quickchartButtonEl.classList.remove('colab-df-spinner');\n",
              "      quickchartButtonEl.classList.add('colab-df-quickchart-complete');\n",
              "    }\n",
              "    (() => {\n",
              "      let quickchartButtonEl =\n",
              "        document.querySelector('#df-69d44527-d71e-4754-bd27-68cc5dfc609c button');\n",
              "      quickchartButtonEl.style.display =\n",
              "        google.colab.kernel.accessAllowed ? 'block' : 'none';\n",
              "    })();\n",
              "  </script>\n",
              "</div>\n",
              "\n",
              "    </div>\n",
              "  </div>\n"
            ],
            "application/vnd.google.colaboratory.intrinsic+json": {
              "type": "dataframe",
              "summary": "{\n  \"name\": \"df\",\n  \"rows\": 8,\n  \"fields\": [\n    {\n      \"column\": \"id\",\n      \"properties\": {\n        \"dtype\": \"number\",\n        \"std\": 2214.829179184904,\n        \"min\": 0.0,\n        \"max\": 6146.0,\n        \"num_unique_values\": 7,\n        \"samples\": [\n          6146.0,\n          3072.5,\n          4608.75\n        ],\n        \"semantic_type\": \"\",\n        \"description\": \"\"\n      }\n    },\n    {\n      \"column\": \"client_id\",\n      \"properties\": {\n        \"dtype\": \"number\",\n        \"std\": 1942.0584327227666,\n        \"min\": 0.0,\n        \"max\": 6146.0,\n        \"num_unique_values\": 8,\n        \"samples\": [\n          994.9396355353075,\n          992.0,\n          6146.0\n        ],\n        \"semantic_type\": \"\",\n        \"description\": \"\"\n      }\n    },\n    {\n      \"column\": \"card_number\",\n      \"properties\": {\n        \"dtype\": \"number\",\n        \"std\": 2646805247768564.0,\n        \"min\": 6146.0,\n        \"max\": 6997197066610978.0,\n        \"num_unique_values\": 8,\n        \"samples\": [\n          4820425803848956.0,\n          5108957434464472.0,\n          6146.0\n        ],\n        \"semantic_type\": \"\",\n        \"description\": \"\"\n      }\n    },\n    {\n      \"column\": \"cvv\",\n      \"properties\": {\n        \"dtype\": \"number\",\n        \"std\": 2028.554444855918,\n        \"min\": 0.0,\n        \"max\": 6146.0,\n        \"num_unique_values\": 8,\n        \"samples\": [\n          506.2207940123658,\n          516.5,\n          6146.0\n        ],\n        \"semantic_type\": \"\",\n        \"description\": \"\"\n      }\n    },\n    {\n      \"column\": \"num_cards_issued\",\n      \"properties\": {\n        \"dtype\": \"number\",\n        \"std\": 2172.4330743019973,\n        \"min\": 0.5191909056591077,\n        \"max\": 6146.0,\n        \"num_unique_values\": 6,\n        \"samples\": [\n          6146.0,\n          1.5030914415880248,\n          3.0\n        ],\n        \"semantic_type\": \"\",\n        \"description\": \"\"\n      }\n    },\n    {\n      \"column\": \"year_pin_last_changed\",\n      \"properties\": {\n        \"dtype\": \"number\",\n        \"std\": 1713.5665522915842,\n        \"min\": 4.270699440329065,\n        \"max\": 6146.0,\n        \"num_unique_values\": 8,\n        \"samples\": [\n          2013.4367068011716,\n          2013.0,\n          6146.0\n        ],\n        \"semantic_type\": \"\",\n        \"description\": \"\"\n      }\n    }\n  ]\n}"
            }
          },
          "metadata": {},
          "execution_count": 6
        }
      ]
    },
    {
      "cell_type": "markdown",
      "source": [
        "inference\n",
        "card data from 2002 to 2020\n"
      ],
      "metadata": {
        "id": "cjCWLIHmqegw"
      }
    },
    {
      "cell_type": "markdown",
      "source": [
        "**2. NumPy Operations:**\n",
        "\n",
        "● Create arrays using np.array(), np.zeros(), np.ones(), np.random.rand()."
      ],
      "metadata": {
        "id": "fUoV9919rAsP"
      }
    },
    {
      "cell_type": "code",
      "source": [
        "arr = np.array([2,3,5,7,8,9])\n",
        "print(arr)"
      ],
      "metadata": {
        "colab": {
          "base_uri": "https://localhost:8080/"
        },
        "id": "JrppJFhlrHLI",
        "outputId": "4be05d75-8fcb-47a3-9fb2-ac4ba6769fbe"
      },
      "execution_count": null,
      "outputs": [
        {
          "output_type": "stream",
          "name": "stdout",
          "text": [
            "[2 3 5 7 8 9]\n"
          ]
        }
      ]
    },
    {
      "cell_type": "code",
      "source": [
        "arr_zeros = np.zeros([2,3])\n",
        "print(arr_zeros)"
      ],
      "metadata": {
        "colab": {
          "base_uri": "https://localhost:8080/"
        },
        "id": "soorn6-xrc9n",
        "outputId": "10cf4585-dfec-4b40-8420-8e39e8c485db"
      },
      "execution_count": null,
      "outputs": [
        {
          "output_type": "stream",
          "name": "stdout",
          "text": [
            "[[0. 0. 0.]\n",
            " [0. 0. 0.]]\n"
          ]
        }
      ]
    },
    {
      "cell_type": "code",
      "source": [
        "arr_ones = np.ones([3,5])\n",
        "print(arr_ones)"
      ],
      "metadata": {
        "colab": {
          "base_uri": "https://localhost:8080/"
        },
        "id": "roW88LPWrt3-",
        "outputId": "22cf2ca1-81aa-4f38-d18b-13edd86cefd0"
      },
      "execution_count": null,
      "outputs": [
        {
          "output_type": "stream",
          "name": "stdout",
          "text": [
            "[[1. 1. 1. 1. 1.]\n",
            " [1. 1. 1. 1. 1.]\n",
            " [1. 1. 1. 1. 1.]]\n"
          ]
        }
      ]
    },
    {
      "cell_type": "code",
      "source": [
        "a = np.random.rand(4,5)\n",
        "print(a)"
      ],
      "metadata": {
        "colab": {
          "base_uri": "https://localhost:8080/"
        },
        "id": "YpU94aWjr3m2",
        "outputId": "b2fc68e9-8c5b-4e67-9bac-57516c962fed"
      },
      "execution_count": null,
      "outputs": [
        {
          "output_type": "stream",
          "name": "stdout",
          "text": [
            "[[0.07344609 0.40803689 0.82107542 0.79714986 0.33528935]\n",
            " [0.77807876 0.16069108 0.14246316 0.84183156 0.2282384 ]\n",
            " [0.35814993 0.66027788 0.76884354 0.73638827 0.38304872]\n",
            " [0.11424604 0.59743068 0.06048282 0.27348264 0.06425738]]\n"
          ]
        }
      ]
    },
    {
      "cell_type": "markdown",
      "source": [
        "● Perform element-wise operations and apply mathematical functions."
      ],
      "metadata": {
        "id": "lBSxeJMcsFWn"
      }
    },
    {
      "cell_type": "code",
      "source": [
        "b = arr+4\n",
        "print(b)"
      ],
      "metadata": {
        "colab": {
          "base_uri": "https://localhost:8080/"
        },
        "id": "8vRvY87WsIzI",
        "outputId": "45cac9c2-c111-4e1f-c908-91ca3fb83562"
      },
      "execution_count": null,
      "outputs": [
        {
          "output_type": "stream",
          "name": "stdout",
          "text": [
            "[ 6  7  9 11 12 13]\n"
          ]
        }
      ]
    },
    {
      "cell_type": "code",
      "source": [
        "arr1 = np.array([1, 4, 9, 16])\n",
        "\n",
        "# Apply square root element-wise\n",
        "sqrt_result = np.sqrt(arr1)\n",
        "print(sqrt_result)"
      ],
      "metadata": {
        "colab": {
          "base_uri": "https://localhost:8080/"
        },
        "id": "64Pp50bQtf9K",
        "outputId": "70ea740d-4df1-4d50-d36f-fd3ae808bc10"
      },
      "execution_count": null,
      "outputs": [
        {
          "output_type": "stream",
          "name": "stdout",
          "text": [
            "[1. 2. 3. 4.]\n"
          ]
        }
      ]
    },
    {
      "cell_type": "code",
      "source": [
        "c = sqrt_result*3\n",
        "print(c)"
      ],
      "metadata": {
        "colab": {
          "base_uri": "https://localhost:8080/"
        },
        "id": "z0JhQb-ytlTq",
        "outputId": "8dc7959d-c8c7-4c4f-8d79-d21a82f98180"
      },
      "execution_count": null,
      "outputs": [
        {
          "output_type": "stream",
          "name": "stdout",
          "text": [
            "[ 3.  6.  9. 12.]\n"
          ]
        }
      ]
    },
    {
      "cell_type": "code",
      "source": [
        "arr3 = np.array([1, 2, 3])\n",
        "\n",
        "# Apply exponential function\n",
        "exp_result = np.exp(arr3)\n",
        "print(exp_result)"
      ],
      "metadata": {
        "colab": {
          "base_uri": "https://localhost:8080/"
        },
        "id": "PCRGlfJDuDtb",
        "outputId": "5b0d552c-8253-4ed5-b0a1-0de15c62aee0"
      },
      "execution_count": null,
      "outputs": [
        {
          "output_type": "stream",
          "name": "stdout",
          "text": [
            "[ 2.71828183  7.3890561  20.08553692]\n"
          ]
        }
      ]
    },
    {
      "cell_type": "markdown",
      "source": [
        "● Reshape arrays using .reshape() and concatenate arrays using .hstack() and .vstack()."
      ],
      "metadata": {
        "id": "PGWi5LGJuIa2"
      }
    },
    {
      "cell_type": "code",
      "source": [
        "# Create a 1D array\n",
        "arr = np.array([1, 2, 3, 4, 5, 6])\n",
        "\n",
        "# Reshape the array to a 2x3 matrix\n",
        "reshaped_arr = arr.reshape(2, 3)\n",
        "print(reshaped_arr)"
      ],
      "metadata": {
        "colab": {
          "base_uri": "https://localhost:8080/"
        },
        "id": "fSLGxK2zuH1V",
        "outputId": "f1b9cf67-40f9-447d-8e9c-3d7bd6f17633"
      },
      "execution_count": null,
      "outputs": [
        {
          "output_type": "stream",
          "name": "stdout",
          "text": [
            "[[1 2 3]\n",
            " [4 5 6]]\n"
          ]
        }
      ]
    },
    {
      "cell_type": "code",
      "source": [
        "# Reshape the 2D array into a 1D array\n",
        "reshaped_arr = reshaped_arr.reshape(-1)\n",
        "print(reshaped_arr)"
      ],
      "metadata": {
        "colab": {
          "base_uri": "https://localhost:8080/"
        },
        "id": "reItn5fPvNrH",
        "outputId": "11b6bd3c-0558-4693-9a3f-1a9f03c73c4b"
      },
      "execution_count": null,
      "outputs": [
        {
          "output_type": "stream",
          "name": "stdout",
          "text": [
            "[1 2 3 4 5 6]\n"
          ]
        }
      ]
    },
    {
      "cell_type": "code",
      "source": [
        "# Create a 1D array\n",
        "arr = np.arange(12)\n",
        "\n",
        "# Reshape it into a 3D array of shape (2, 2, 3)\n",
        "reshaped_arr = arr.reshape(2, 2, 3)\n",
        "print(reshaped_arr)"
      ],
      "metadata": {
        "colab": {
          "base_uri": "https://localhost:8080/"
        },
        "id": "GcjLJ6MUvYvP",
        "outputId": "62f2cd1e-28c8-499c-c984-e2765e3f5464"
      },
      "execution_count": null,
      "outputs": [
        {
          "output_type": "stream",
          "name": "stdout",
          "text": [
            "[[[ 0  1  2]\n",
            "  [ 3  4  5]]\n",
            "\n",
            " [[ 6  7  8]\n",
            "  [ 9 10 11]]]\n"
          ]
        }
      ]
    },
    {
      "cell_type": "code",
      "source": [
        "# Create two 1D arrays\n",
        "arr1 = np.array([1, 2, 3])\n",
        "arr2 = np.array([4, 5, 6])\n",
        "\n",
        "# Concatenate them horizontally\n",
        "hstacked_arr = np.hstack((arr1, arr2))\n",
        "print(hstacked_arr)"
      ],
      "metadata": {
        "colab": {
          "base_uri": "https://localhost:8080/"
        },
        "id": "s1d0kIeFvhxP",
        "outputId": "4d6b9de8-101a-4fa5-e578-804e93fb0f1c"
      },
      "execution_count": null,
      "outputs": [
        {
          "output_type": "stream",
          "name": "stdout",
          "text": [
            "[1 2 3 4 5 6]\n"
          ]
        }
      ]
    },
    {
      "cell_type": "code",
      "source": [
        "# Create two 1D arrays\n",
        "arr1 = np.array([1, 2, 3])\n",
        "arr2 = np.array([4, 5, 6])\n",
        "\n",
        "# Concatenate them vertically\n",
        "vstacked_arr = np.vstack((arr1, arr2))\n",
        "print(vstacked_arr)"
      ],
      "metadata": {
        "colab": {
          "base_uri": "https://localhost:8080/"
        },
        "id": "YzlfdUNJvi5H",
        "outputId": "4d17ddba-f3ab-4258-f769-2211dbefad0c"
      },
      "execution_count": null,
      "outputs": [
        {
          "output_type": "stream",
          "name": "stdout",
          "text": [
            "[[1 2 3]\n",
            " [4 5 6]]\n"
          ]
        }
      ]
    },
    {
      "cell_type": "code",
      "source": [
        "# Create two 2D arrays\n",
        "arr1 = np.array([[1, 2], [3, 4]])\n",
        "arr2 = np.array([[5, 6], [7, 8]])\n",
        "\n",
        "# Horizontal stacking\n",
        "hstacked_2d = np.hstack((arr1, arr2))\n",
        "print(\"Horizontally Stacked 2D Array:\")\n",
        "print(hstacked_2d)\n",
        "\n",
        "# Vertical stacking\n",
        "vstacked_2d = np.vstack((arr1, arr2))\n",
        "print(\"\\nVertically Stacked 2D Array:\")\n",
        "print(vstacked_2d)"
      ],
      "metadata": {
        "colab": {
          "base_uri": "https://localhost:8080/"
        },
        "id": "ROKqoLB1vmr3",
        "outputId": "9b335209-f023-4d51-a508-7b29fee0bc43"
      },
      "execution_count": null,
      "outputs": [
        {
          "output_type": "stream",
          "name": "stdout",
          "text": [
            "Horizontally Stacked 2D Array:\n",
            "[[1 2 5 6]\n",
            " [3 4 7 8]]\n",
            "\n",
            "Vertically Stacked 2D Array:\n",
            "[[1 2]\n",
            " [3 4]\n",
            " [5 6]\n",
            " [7 8]]\n"
          ]
        }
      ]
    },
    {
      "cell_type": "markdown",
      "source": [
        "**3. Pandas DataFrame Manipulation:**\n",
        "\n",
        "● Read data using pd.read_csv()."
      ],
      "metadata": {
        "id": "NznkCUbev0wB"
      }
    },
    {
      "cell_type": "code",
      "source": [
        "df = pd.read_csv('Ecommerce_Delivery_Analytics_New.csv')"
      ],
      "metadata": {
        "id": "qhkAhVbfv5vG"
      },
      "execution_count": 47,
      "outputs": []
    },
    {
      "cell_type": "markdown",
      "source": [
        "● Perform operations like selecting columns, filtering rows, and applying functions."
      ],
      "metadata": {
        "id": "eJwQ8_uSwI5w"
      }
    },
    {
      "cell_type": "code",
      "source": [
        "df.head()"
      ],
      "metadata": {
        "colab": {
          "base_uri": "https://localhost:8080/",
          "height": 328
        },
        "id": "DZ3PmZjqwN5Q",
        "outputId": "1f6edb73-1ad4-47aa-ce3f-f8f176020910"
      },
      "execution_count": 3,
      "outputs": [
        {
          "output_type": "execute_result",
          "data": {
            "text/plain": [
              "    Order ID Customer ID Platform Order Date & Time  Delivery Time (Minutes)  \\\n",
              "0  ORD000001    CUST2824  JioMart           19:29.5                       30   \n",
              "1  ORD000002    CUST1409  Blinkit           54:29.5                       16   \n",
              "2  ORD000003    CUST5506  JioMart           21:29.5                       25   \n",
              "3  ORD000004    CUST5012  JioMart           19:29.5                       42   \n",
              "4  ORD000005    CUST4657  Blinkit           49:29.5                       30   \n",
              "\n",
              "      Product Category  Order Value (INR)              Customer Feedback  \\\n",
              "0  Fruits & Vegetables                382  Fast delivery, great service!   \n",
              "1                Dairy                279            Quick and reliable!   \n",
              "2            Beverages                599      Items missing from order.   \n",
              "3            Beverages                946      Items missing from order.   \n",
              "4            Beverages                334  Fast delivery, great service!   \n",
              "\n",
              "   Service Rating Delivery Delay Refund Requested  \n",
              "0               5             No               No  \n",
              "1               5             No               No  \n",
              "2               2             No              Yes  \n",
              "3               2            Yes              Yes  \n",
              "4               5             No               No  "
            ],
            "text/html": [
              "\n",
              "  <div id=\"df-d03eb928-a3fe-4d2c-a670-50255476ea16\" class=\"colab-df-container\">\n",
              "    <div>\n",
              "<style scoped>\n",
              "    .dataframe tbody tr th:only-of-type {\n",
              "        vertical-align: middle;\n",
              "    }\n",
              "\n",
              "    .dataframe tbody tr th {\n",
              "        vertical-align: top;\n",
              "    }\n",
              "\n",
              "    .dataframe thead th {\n",
              "        text-align: right;\n",
              "    }\n",
              "</style>\n",
              "<table border=\"1\" class=\"dataframe\">\n",
              "  <thead>\n",
              "    <tr style=\"text-align: right;\">\n",
              "      <th></th>\n",
              "      <th>Order ID</th>\n",
              "      <th>Customer ID</th>\n",
              "      <th>Platform</th>\n",
              "      <th>Order Date &amp; Time</th>\n",
              "      <th>Delivery Time (Minutes)</th>\n",
              "      <th>Product Category</th>\n",
              "      <th>Order Value (INR)</th>\n",
              "      <th>Customer Feedback</th>\n",
              "      <th>Service Rating</th>\n",
              "      <th>Delivery Delay</th>\n",
              "      <th>Refund Requested</th>\n",
              "    </tr>\n",
              "  </thead>\n",
              "  <tbody>\n",
              "    <tr>\n",
              "      <th>0</th>\n",
              "      <td>ORD000001</td>\n",
              "      <td>CUST2824</td>\n",
              "      <td>JioMart</td>\n",
              "      <td>19:29.5</td>\n",
              "      <td>30</td>\n",
              "      <td>Fruits &amp; Vegetables</td>\n",
              "      <td>382</td>\n",
              "      <td>Fast delivery, great service!</td>\n",
              "      <td>5</td>\n",
              "      <td>No</td>\n",
              "      <td>No</td>\n",
              "    </tr>\n",
              "    <tr>\n",
              "      <th>1</th>\n",
              "      <td>ORD000002</td>\n",
              "      <td>CUST1409</td>\n",
              "      <td>Blinkit</td>\n",
              "      <td>54:29.5</td>\n",
              "      <td>16</td>\n",
              "      <td>Dairy</td>\n",
              "      <td>279</td>\n",
              "      <td>Quick and reliable!</td>\n",
              "      <td>5</td>\n",
              "      <td>No</td>\n",
              "      <td>No</td>\n",
              "    </tr>\n",
              "    <tr>\n",
              "      <th>2</th>\n",
              "      <td>ORD000003</td>\n",
              "      <td>CUST5506</td>\n",
              "      <td>JioMart</td>\n",
              "      <td>21:29.5</td>\n",
              "      <td>25</td>\n",
              "      <td>Beverages</td>\n",
              "      <td>599</td>\n",
              "      <td>Items missing from order.</td>\n",
              "      <td>2</td>\n",
              "      <td>No</td>\n",
              "      <td>Yes</td>\n",
              "    </tr>\n",
              "    <tr>\n",
              "      <th>3</th>\n",
              "      <td>ORD000004</td>\n",
              "      <td>CUST5012</td>\n",
              "      <td>JioMart</td>\n",
              "      <td>19:29.5</td>\n",
              "      <td>42</td>\n",
              "      <td>Beverages</td>\n",
              "      <td>946</td>\n",
              "      <td>Items missing from order.</td>\n",
              "      <td>2</td>\n",
              "      <td>Yes</td>\n",
              "      <td>Yes</td>\n",
              "    </tr>\n",
              "    <tr>\n",
              "      <th>4</th>\n",
              "      <td>ORD000005</td>\n",
              "      <td>CUST4657</td>\n",
              "      <td>Blinkit</td>\n",
              "      <td>49:29.5</td>\n",
              "      <td>30</td>\n",
              "      <td>Beverages</td>\n",
              "      <td>334</td>\n",
              "      <td>Fast delivery, great service!</td>\n",
              "      <td>5</td>\n",
              "      <td>No</td>\n",
              "      <td>No</td>\n",
              "    </tr>\n",
              "  </tbody>\n",
              "</table>\n",
              "</div>\n",
              "    <div class=\"colab-df-buttons\">\n",
              "\n",
              "  <div class=\"colab-df-container\">\n",
              "    <button class=\"colab-df-convert\" onclick=\"convertToInteractive('df-d03eb928-a3fe-4d2c-a670-50255476ea16')\"\n",
              "            title=\"Convert this dataframe to an interactive table.\"\n",
              "            style=\"display:none;\">\n",
              "\n",
              "  <svg xmlns=\"http://www.w3.org/2000/svg\" height=\"24px\" viewBox=\"0 -960 960 960\">\n",
              "    <path d=\"M120-120v-720h720v720H120Zm60-500h600v-160H180v160Zm220 220h160v-160H400v160Zm0 220h160v-160H400v160ZM180-400h160v-160H180v160Zm440 0h160v-160H620v160ZM180-180h160v-160H180v160Zm440 0h160v-160H620v160Z\"/>\n",
              "  </svg>\n",
              "    </button>\n",
              "\n",
              "  <style>\n",
              "    .colab-df-container {\n",
              "      display:flex;\n",
              "      gap: 12px;\n",
              "    }\n",
              "\n",
              "    .colab-df-convert {\n",
              "      background-color: #E8F0FE;\n",
              "      border: none;\n",
              "      border-radius: 50%;\n",
              "      cursor: pointer;\n",
              "      display: none;\n",
              "      fill: #1967D2;\n",
              "      height: 32px;\n",
              "      padding: 0 0 0 0;\n",
              "      width: 32px;\n",
              "    }\n",
              "\n",
              "    .colab-df-convert:hover {\n",
              "      background-color: #E2EBFA;\n",
              "      box-shadow: 0px 1px 2px rgba(60, 64, 67, 0.3), 0px 1px 3px 1px rgba(60, 64, 67, 0.15);\n",
              "      fill: #174EA6;\n",
              "    }\n",
              "\n",
              "    .colab-df-buttons div {\n",
              "      margin-bottom: 4px;\n",
              "    }\n",
              "\n",
              "    [theme=dark] .colab-df-convert {\n",
              "      background-color: #3B4455;\n",
              "      fill: #D2E3FC;\n",
              "    }\n",
              "\n",
              "    [theme=dark] .colab-df-convert:hover {\n",
              "      background-color: #434B5C;\n",
              "      box-shadow: 0px 1px 3px 1px rgba(0, 0, 0, 0.15);\n",
              "      filter: drop-shadow(0px 1px 2px rgba(0, 0, 0, 0.3));\n",
              "      fill: #FFFFFF;\n",
              "    }\n",
              "  </style>\n",
              "\n",
              "    <script>\n",
              "      const buttonEl =\n",
              "        document.querySelector('#df-d03eb928-a3fe-4d2c-a670-50255476ea16 button.colab-df-convert');\n",
              "      buttonEl.style.display =\n",
              "        google.colab.kernel.accessAllowed ? 'block' : 'none';\n",
              "\n",
              "      async function convertToInteractive(key) {\n",
              "        const element = document.querySelector('#df-d03eb928-a3fe-4d2c-a670-50255476ea16');\n",
              "        const dataTable =\n",
              "          await google.colab.kernel.invokeFunction('convertToInteractive',\n",
              "                                                    [key], {});\n",
              "        if (!dataTable) return;\n",
              "\n",
              "        const docLinkHtml = 'Like what you see? Visit the ' +\n",
              "          '<a target=\"_blank\" href=https://colab.research.google.com/notebooks/data_table.ipynb>data table notebook</a>'\n",
              "          + ' to learn more about interactive tables.';\n",
              "        element.innerHTML = '';\n",
              "        dataTable['output_type'] = 'display_data';\n",
              "        await google.colab.output.renderOutput(dataTable, element);\n",
              "        const docLink = document.createElement('div');\n",
              "        docLink.innerHTML = docLinkHtml;\n",
              "        element.appendChild(docLink);\n",
              "      }\n",
              "    </script>\n",
              "  </div>\n",
              "\n",
              "\n",
              "<div id=\"df-5222ea55-4735-4f8d-a32c-9099ed52de8a\">\n",
              "  <button class=\"colab-df-quickchart\" onclick=\"quickchart('df-5222ea55-4735-4f8d-a32c-9099ed52de8a')\"\n",
              "            title=\"Suggest charts\"\n",
              "            style=\"display:none;\">\n",
              "\n",
              "<svg xmlns=\"http://www.w3.org/2000/svg\" height=\"24px\"viewBox=\"0 0 24 24\"\n",
              "     width=\"24px\">\n",
              "    <g>\n",
              "        <path d=\"M19 3H5c-1.1 0-2 .9-2 2v14c0 1.1.9 2 2 2h14c1.1 0 2-.9 2-2V5c0-1.1-.9-2-2-2zM9 17H7v-7h2v7zm4 0h-2V7h2v10zm4 0h-2v-4h2v4z\"/>\n",
              "    </g>\n",
              "</svg>\n",
              "  </button>\n",
              "\n",
              "<style>\n",
              "  .colab-df-quickchart {\n",
              "      --bg-color: #E8F0FE;\n",
              "      --fill-color: #1967D2;\n",
              "      --hover-bg-color: #E2EBFA;\n",
              "      --hover-fill-color: #174EA6;\n",
              "      --disabled-fill-color: #AAA;\n",
              "      --disabled-bg-color: #DDD;\n",
              "  }\n",
              "\n",
              "  [theme=dark] .colab-df-quickchart {\n",
              "      --bg-color: #3B4455;\n",
              "      --fill-color: #D2E3FC;\n",
              "      --hover-bg-color: #434B5C;\n",
              "      --hover-fill-color: #FFFFFF;\n",
              "      --disabled-bg-color: #3B4455;\n",
              "      --disabled-fill-color: #666;\n",
              "  }\n",
              "\n",
              "  .colab-df-quickchart {\n",
              "    background-color: var(--bg-color);\n",
              "    border: none;\n",
              "    border-radius: 50%;\n",
              "    cursor: pointer;\n",
              "    display: none;\n",
              "    fill: var(--fill-color);\n",
              "    height: 32px;\n",
              "    padding: 0;\n",
              "    width: 32px;\n",
              "  }\n",
              "\n",
              "  .colab-df-quickchart:hover {\n",
              "    background-color: var(--hover-bg-color);\n",
              "    box-shadow: 0 1px 2px rgba(60, 64, 67, 0.3), 0 1px 3px 1px rgba(60, 64, 67, 0.15);\n",
              "    fill: var(--button-hover-fill-color);\n",
              "  }\n",
              "\n",
              "  .colab-df-quickchart-complete:disabled,\n",
              "  .colab-df-quickchart-complete:disabled:hover {\n",
              "    background-color: var(--disabled-bg-color);\n",
              "    fill: var(--disabled-fill-color);\n",
              "    box-shadow: none;\n",
              "  }\n",
              "\n",
              "  .colab-df-spinner {\n",
              "    border: 2px solid var(--fill-color);\n",
              "    border-color: transparent;\n",
              "    border-bottom-color: var(--fill-color);\n",
              "    animation:\n",
              "      spin 1s steps(1) infinite;\n",
              "  }\n",
              "\n",
              "  @keyframes spin {\n",
              "    0% {\n",
              "      border-color: transparent;\n",
              "      border-bottom-color: var(--fill-color);\n",
              "      border-left-color: var(--fill-color);\n",
              "    }\n",
              "    20% {\n",
              "      border-color: transparent;\n",
              "      border-left-color: var(--fill-color);\n",
              "      border-top-color: var(--fill-color);\n",
              "    }\n",
              "    30% {\n",
              "      border-color: transparent;\n",
              "      border-left-color: var(--fill-color);\n",
              "      border-top-color: var(--fill-color);\n",
              "      border-right-color: var(--fill-color);\n",
              "    }\n",
              "    40% {\n",
              "      border-color: transparent;\n",
              "      border-right-color: var(--fill-color);\n",
              "      border-top-color: var(--fill-color);\n",
              "    }\n",
              "    60% {\n",
              "      border-color: transparent;\n",
              "      border-right-color: var(--fill-color);\n",
              "    }\n",
              "    80% {\n",
              "      border-color: transparent;\n",
              "      border-right-color: var(--fill-color);\n",
              "      border-bottom-color: var(--fill-color);\n",
              "    }\n",
              "    90% {\n",
              "      border-color: transparent;\n",
              "      border-bottom-color: var(--fill-color);\n",
              "    }\n",
              "  }\n",
              "</style>\n",
              "\n",
              "  <script>\n",
              "    async function quickchart(key) {\n",
              "      const quickchartButtonEl =\n",
              "        document.querySelector('#' + key + ' button');\n",
              "      quickchartButtonEl.disabled = true;  // To prevent multiple clicks.\n",
              "      quickchartButtonEl.classList.add('colab-df-spinner');\n",
              "      try {\n",
              "        const charts = await google.colab.kernel.invokeFunction(\n",
              "            'suggestCharts', [key], {});\n",
              "      } catch (error) {\n",
              "        console.error('Error during call to suggestCharts:', error);\n",
              "      }\n",
              "      quickchartButtonEl.classList.remove('colab-df-spinner');\n",
              "      quickchartButtonEl.classList.add('colab-df-quickchart-complete');\n",
              "    }\n",
              "    (() => {\n",
              "      let quickchartButtonEl =\n",
              "        document.querySelector('#df-5222ea55-4735-4f8d-a32c-9099ed52de8a button');\n",
              "      quickchartButtonEl.style.display =\n",
              "        google.colab.kernel.accessAllowed ? 'block' : 'none';\n",
              "    })();\n",
              "  </script>\n",
              "</div>\n",
              "\n",
              "    </div>\n",
              "  </div>\n"
            ],
            "application/vnd.google.colaboratory.intrinsic+json": {
              "type": "dataframe",
              "variable_name": "df",
              "summary": "{\n  \"name\": \"df\",\n  \"rows\": 100000,\n  \"fields\": [\n    {\n      \"column\": \"Order ID\",\n      \"properties\": {\n        \"dtype\": \"string\",\n        \"num_unique_values\": 100000,\n        \"samples\": [\n          \"ORD075722\",\n          \"ORD080185\",\n          \"ORD019865\"\n        ],\n        \"semantic_type\": \"\",\n        \"description\": \"\"\n      }\n    },\n    {\n      \"column\": \"Customer ID\",\n      \"properties\": {\n        \"dtype\": \"category\",\n        \"num_unique_values\": 9000,\n        \"samples\": [\n          \"CUST6734\",\n          \"CUST6105\",\n          \"CUST5941\"\n        ],\n        \"semantic_type\": \"\",\n        \"description\": \"\"\n      }\n    },\n    {\n      \"column\": \"Platform\",\n      \"properties\": {\n        \"dtype\": \"category\",\n        \"num_unique_values\": 3,\n        \"samples\": [\n          \"JioMart\",\n          \"Blinkit\",\n          \"Swiggy Instamart\"\n        ],\n        \"semantic_type\": \"\",\n        \"description\": \"\"\n      }\n    },\n    {\n      \"column\": \"Order Date & Time\",\n      \"properties\": {\n        \"dtype\": \"category\",\n        \"num_unique_values\": 60,\n        \"samples\": [\n          \"19:29.5\",\n          \"22:29.5\",\n          \"16:29.5\"\n        ],\n        \"semantic_type\": \"\",\n        \"description\": \"\"\n      }\n    },\n    {\n      \"column\": \"Delivery Time (Minutes)\",\n      \"properties\": {\n        \"dtype\": \"number\",\n        \"std\": 9,\n        \"min\": 5,\n        \"max\": 76,\n        \"num_unique_values\": 69,\n        \"samples\": [\n          24,\n          30,\n          6\n        ],\n        \"semantic_type\": \"\",\n        \"description\": \"\"\n      }\n    },\n    {\n      \"column\": \"Product Category\",\n      \"properties\": {\n        \"dtype\": \"category\",\n        \"num_unique_values\": 6,\n        \"samples\": [\n          \"Fruits & Vegetables\",\n          \"Dairy\",\n          \"Snacks\"\n        ],\n        \"semantic_type\": \"\",\n        \"description\": \"\"\n      }\n    },\n    {\n      \"column\": \"Order Value (INR)\",\n      \"properties\": {\n        \"dtype\": \"number\",\n        \"std\": 417,\n        \"min\": 50,\n        \"max\": 2000,\n        \"num_unique_values\": 1951,\n        \"samples\": [\n          1623,\n          798,\n          1997\n        ],\n        \"semantic_type\": \"\",\n        \"description\": \"\"\n      }\n    },\n    {\n      \"column\": \"Customer Feedback\",\n      \"properties\": {\n        \"dtype\": \"category\",\n        \"num_unique_values\": 13,\n        \"samples\": [\n          \"Delivery person was rude.\",\n          \"Not fresh, disappointed.\",\n          \"Fast delivery, great service!\"\n        ],\n        \"semantic_type\": \"\",\n        \"description\": \"\"\n      }\n    },\n    {\n      \"column\": \"Service Rating\",\n      \"properties\": {\n        \"dtype\": \"number\",\n        \"std\": 1,\n        \"min\": 1,\n        \"max\": 5,\n        \"num_unique_values\": 5,\n        \"samples\": [\n          2,\n          3,\n          1\n        ],\n        \"semantic_type\": \"\",\n        \"description\": \"\"\n      }\n    },\n    {\n      \"column\": \"Delivery Delay\",\n      \"properties\": {\n        \"dtype\": \"category\",\n        \"num_unique_values\": 2,\n        \"samples\": [\n          \"Yes\",\n          \"No\"\n        ],\n        \"semantic_type\": \"\",\n        \"description\": \"\"\n      }\n    },\n    {\n      \"column\": \"Refund Requested\",\n      \"properties\": {\n        \"dtype\": \"category\",\n        \"num_unique_values\": 2,\n        \"samples\": [\n          \"Yes\",\n          \"No\"\n        ],\n        \"semantic_type\": \"\",\n        \"description\": \"\"\n      }\n    }\n  ]\n}"
            }
          },
          "metadata": {},
          "execution_count": 3
        }
      ]
    },
    {
      "cell_type": "code",
      "source": [
        "df.info()"
      ],
      "metadata": {
        "colab": {
          "base_uri": "https://localhost:8080/"
        },
        "id": "XbhKYqzC_741",
        "outputId": "923f60b6-6f6f-4f89-faac-6d9548ac02bb"
      },
      "execution_count": 4,
      "outputs": [
        {
          "output_type": "stream",
          "name": "stdout",
          "text": [
            "<class 'pandas.core.frame.DataFrame'>\n",
            "RangeIndex: 100000 entries, 0 to 99999\n",
            "Data columns (total 11 columns):\n",
            " #   Column                   Non-Null Count   Dtype \n",
            "---  ------                   --------------   ----- \n",
            " 0   Order ID                 100000 non-null  object\n",
            " 1   Customer ID              100000 non-null  object\n",
            " 2   Platform                 100000 non-null  object\n",
            " 3   Order Date & Time        100000 non-null  object\n",
            " 4   Delivery Time (Minutes)  100000 non-null  int64 \n",
            " 5   Product Category         100000 non-null  object\n",
            " 6   Order Value (INR)        100000 non-null  int64 \n",
            " 7   Customer Feedback        100000 non-null  object\n",
            " 8   Service Rating           100000 non-null  int64 \n",
            " 9   Delivery Delay           100000 non-null  object\n",
            " 10  Refund Requested         100000 non-null  object\n",
            "dtypes: int64(3), object(8)\n",
            "memory usage: 8.4+ MB\n"
          ]
        }
      ]
    },
    {
      "cell_type": "code",
      "source": [
        "# Select a single column by name\n",
        "one_column = df['Customer Feedback']\n",
        "print(one_column)"
      ],
      "metadata": {
        "colab": {
          "base_uri": "https://localhost:8080/"
        },
        "id": "YLBeKgW7AVGW",
        "outputId": "c05ab15f-b811-4bc8-e13f-f03b23497036"
      },
      "execution_count": 5,
      "outputs": [
        {
          "output_type": "stream",
          "name": "stdout",
          "text": [
            "0        Fast delivery, great service!\n",
            "1                  Quick and reliable!\n",
            "2            Items missing from order.\n",
            "3            Items missing from order.\n",
            "4        Fast delivery, great service!\n",
            "                     ...              \n",
            "99995       Packaging could be better.\n",
            "99996           Good quality products.\n",
            "99997    Fast delivery, great service!\n",
            "99998              Quick and reliable!\n",
            "99999       Packaging could be better.\n",
            "Name: Customer Feedback, Length: 100000, dtype: object\n"
          ]
        }
      ]
    },
    {
      "cell_type": "code",
      "source": [
        "# Select multiple columns by passing a list of column names\n",
        "selected_columns = df[['Customer Feedback', 'Service Rating']]\n",
        "print(selected_columns)"
      ],
      "metadata": {
        "colab": {
          "base_uri": "https://localhost:8080/"
        },
        "id": "BawvtJH6RNCQ",
        "outputId": "8b68c06d-55ce-4e12-982c-86a35ab544cb"
      },
      "execution_count": null,
      "outputs": [
        {
          "output_type": "stream",
          "name": "stdout",
          "text": [
            "                   Customer Feedback  Service Rating\n",
            "0      Fast delivery, great service!               5\n",
            "1                Quick and reliable!               5\n",
            "2          Items missing from order.               2\n",
            "3          Items missing from order.               2\n",
            "4      Fast delivery, great service!               5\n",
            "...                              ...             ...\n",
            "99995     Packaging could be better.               3\n",
            "99996         Good quality products.               4\n",
            "99997  Fast delivery, great service!               5\n",
            "99998            Quick and reliable!               5\n",
            "99999     Packaging could be better.               3\n",
            "\n",
            "[100000 rows x 2 columns]\n"
          ]
        }
      ]
    },
    {
      "cell_type": "code",
      "source": [
        "# Filter rows where Age is greater than 30\n",
        "filtered_rows = df[df['Service Rating'] > 4]\n",
        "print(filtered_rows.head(10))"
      ],
      "metadata": {
        "colab": {
          "base_uri": "https://localhost:8080/"
        },
        "id": "9HiT831PRVuf",
        "outputId": "fe7007c5-8ab1-4cf9-e608-9fec90e06738"
      },
      "execution_count": null,
      "outputs": [
        {
          "output_type": "stream",
          "name": "stdout",
          "text": [
            "     Order ID Customer ID          Platform Order Date & Time  \\\n",
            "0   ORD000001    CUST2824           JioMart           19:29.5   \n",
            "1   ORD000002    CUST1409           Blinkit           54:29.5   \n",
            "4   ORD000005    CUST4657           Blinkit           49:29.5   \n",
            "6   ORD000007    CUST2679           JioMart           22:29.5   \n",
            "8   ORD000009    CUST2424           JioMart           51:29.5   \n",
            "10  ORD000011    CUST1520           JioMart           32:29.5   \n",
            "11  ORD000012    CUST1488           JioMart           12:29.5   \n",
            "14  ORD000015    CUST4811  Swiggy Instamart           27:29.5   \n",
            "17  ORD000018    CUST4257  Swiggy Instamart           23:29.5   \n",
            "19  ORD000020    CUST7873  Swiggy Instamart           20:29.5   \n",
            "\n",
            "    Delivery Time (Minutes)     Product Category  Order Value (INR)  \\\n",
            "0                        30  Fruits & Vegetables                382   \n",
            "1                        16                Dairy                279   \n",
            "4                        30            Beverages                334   \n",
            "6                        22        Personal Care               1693   \n",
            "8                        39  Fruits & Vegetables                182   \n",
            "10                       25  Fruits & Vegetables                553   \n",
            "11                       11              Grocery               1062   \n",
            "14                       33  Fruits & Vegetables                 50   \n",
            "17                       27            Beverages                161   \n",
            "19                       26            Beverages                677   \n",
            "\n",
            "                   Customer Feedback  Service Rating Delivery Delay  \\\n",
            "0      Fast delivery, great service!               5             No   \n",
            "1                Quick and reliable!               5             No   \n",
            "4      Fast delivery, great service!               5             No   \n",
            "6      Fast delivery, great service!               5             No   \n",
            "8   Very satisfied with the service.               5             No   \n",
            "10     Fast delivery, great service!               5             No   \n",
            "11             Excellent experience!               5             No   \n",
            "14          Easy to order, loved it!               5             No   \n",
            "17             Excellent experience!               5             No   \n",
            "19               Quick and reliable!               5             No   \n",
            "\n",
            "   Refund Requested  \n",
            "0                No  \n",
            "1                No  \n",
            "4                No  \n",
            "6                No  \n",
            "8                No  \n",
            "10               No  \n",
            "11               No  \n",
            "14               No  \n",
            "17               No  \n",
            "19               No  \n"
          ]
        }
      ]
    },
    {
      "cell_type": "code",
      "source": [
        "# Filter rows where Age is greater than 25 and Salary is greater than 55000\n",
        "filtered_rows = df[(df['Service Rating'] > 4) & (df['Platform'] == 'Blinkit')]\n",
        "print(filtered_rows.head(10))"
      ],
      "metadata": {
        "colab": {
          "base_uri": "https://localhost:8080/"
        },
        "id": "wSBQYApLRxFZ",
        "outputId": "f94c30c0-db8e-48f7-8854-22d71bfca63b"
      },
      "execution_count": null,
      "outputs": [
        {
          "output_type": "stream",
          "name": "stdout",
          "text": [
            "     Order ID Customer ID Platform Order Date & Time  Delivery Time (Minutes)  \\\n",
            "1   ORD000002    CUST1409  Blinkit           54:29.5                       16   \n",
            "4   ORD000005    CUST4657  Blinkit           49:29.5                       30   \n",
            "25  ORD000026    CUST7924  Blinkit           59:29.5                       32   \n",
            "43  ORD000044    CUST2291  Blinkit           05:29.5                       39   \n",
            "44  ORD000045    CUST5803  Blinkit           26:29.5                       20   \n",
            "51  ORD000052    CUST2307  Blinkit           16:29.5                       22   \n",
            "83  ORD000084    CUST9179  Blinkit           32:29.5                       10   \n",
            "90  ORD000091    CUST9830  Blinkit           18:29.5                        8   \n",
            "91  ORD000092    CUST5304  Blinkit           03:29.5                       35   \n",
            "92  ORD000093    CUST8019  Blinkit           31:29.5                        9   \n",
            "\n",
            "       Product Category  Order Value (INR)                 Customer Feedback  \\\n",
            "1                 Dairy                279               Quick and reliable!   \n",
            "4             Beverages                334     Fast delivery, great service!   \n",
            "25                Dairy                205  Very satisfied with the service.   \n",
            "43              Grocery               1118               Quick and reliable!   \n",
            "44        Personal Care                323          Easy to order, loved it!   \n",
            "51              Grocery                774          Easy to order, loved it!   \n",
            "83            Beverages                910  Very satisfied with the service.   \n",
            "90        Personal Care                183  Very satisfied with the service.   \n",
            "91  Fruits & Vegetables                288     Fast delivery, great service!   \n",
            "92              Grocery                645             Excellent experience!   \n",
            "\n",
            "    Service Rating Delivery Delay Refund Requested  \n",
            "1                5             No               No  \n",
            "4                5             No               No  \n",
            "25               5             No               No  \n",
            "43               5             No               No  \n",
            "44               5             No               No  \n",
            "51               5             No               No  \n",
            "83               5             No               No  \n",
            "90               5             No               No  \n",
            "91               5             No               No  \n",
            "92               5             No               No  \n"
          ]
        }
      ]
    },
    {
      "cell_type": "markdown",
      "source": [
        "Group data using .groupby() and aggregate values."
      ],
      "metadata": {
        "id": "jsewpElOLwiE"
      }
    },
    {
      "cell_type": "code",
      "source": [
        "# Group by the 'Platform' column and calculate the sum of 'Order Value'\n",
        "grouped = df.groupby('Platform')['Order Value (INR)'].sum()   #['Salary'].sum()\n",
        "print(grouped)"
      ],
      "metadata": {
        "colab": {
          "base_uri": "https://localhost:8080/"
        },
        "id": "YFiy2VHnLzCL",
        "outputId": "13b2be66-5d6a-49d0-b7a3-4b57d2d274b9"
      },
      "execution_count": 13,
      "outputs": [
        {
          "output_type": "stream",
          "name": "stdout",
          "text": [
            "Platform\n",
            "Blinkit             19705084\n",
            "JioMart             19562372\n",
            "Swiggy Instamart    19831984\n",
            "Name: Order Value (INR), dtype: int64\n"
          ]
        }
      ]
    },
    {
      "cell_type": "code",
      "source": [
        "# Group by both 'Platform' and 'Service Rating', and calculate the mean of 'Order Value (INR)'\n",
        "grouped_multiple = df.groupby(['Platform', 'Service Rating'])['Order Value (INR)'].mean()\n",
        "print(grouped_multiple)"
      ],
      "metadata": {
        "colab": {
          "base_uri": "https://localhost:8080/"
        },
        "id": "dNBPAOgpvm7p",
        "outputId": "1bae1a7d-fc86-44ba-a117-c1421af199c0"
      },
      "execution_count": 14,
      "outputs": [
        {
          "output_type": "stream",
          "name": "stdout",
          "text": [
            "Platform          Service Rating\n",
            "Blinkit           1                 592.402645\n",
            "                  2                 589.119369\n",
            "                  3                 584.545210\n",
            "                  4                 594.319286\n",
            "                  5                 588.782131\n",
            "JioMart           1                 592.590400\n",
            "                  2                 590.020534\n",
            "                  3                 595.599841\n",
            "                  4                 575.489304\n",
            "                  5                 592.138526\n",
            "Swiggy Instamart  1                 601.349005\n",
            "                  2                 592.556780\n",
            "                  3                 588.510228\n",
            "                  4                 590.068111\n",
            "                  5                 591.278377\n",
            "Name: Order Value (INR), dtype: float64\n"
          ]
        }
      ]
    },
    {
      "cell_type": "code",
      "source": [
        "# Group by 'Platform' and apply multiple aggregation functions to 'Order Value'\n",
        "grouped_agg = df.groupby('Platform')['Order Value (INR)'].agg(['sum', 'mean', 'count'])\n",
        "print(grouped_agg)"
      ],
      "metadata": {
        "colab": {
          "base_uri": "https://localhost:8080/"
        },
        "id": "nRXjZPKKwERc",
        "outputId": "c37c98e0-91a5-4bc3-d77c-24b32be3e781"
      },
      "execution_count": 17,
      "outputs": [
        {
          "output_type": "stream",
          "name": "stdout",
          "text": [
            "                       sum        mean  count\n",
            "Platform                                     \n",
            "Blinkit           19705084  589.548947  33424\n",
            "JioMart           19562372  590.526519  33127\n",
            "Swiggy Instamart  19831984  592.902150  33449\n"
          ]
        }
      ]
    },
    {
      "cell_type": "code",
      "source": [
        "# Define a custom function to calculate the range (max - min)\n",
        "def Order_value_range(group):\n",
        "    return group.max() - group.min()\n",
        "\n",
        "# Group by 'Platform' and apply the custom function\n",
        "grouped_custom = df.groupby('Platform')['Order Value (INR)'].agg(Order_value_range)\n",
        "print(grouped_custom)"
      ],
      "metadata": {
        "colab": {
          "base_uri": "https://localhost:8080/"
        },
        "id": "JU8HRJJMwZIb",
        "outputId": "34834700-41f7-4572-bf20-fd596cffd2b2"
      },
      "execution_count": 16,
      "outputs": [
        {
          "output_type": "stream",
          "name": "stdout",
          "text": [
            "Platform\n",
            "Blinkit             1950\n",
            "JioMart             1950\n",
            "Swiggy Instamart    1950\n",
            "Name: Order Value (INR), dtype: int64\n"
          ]
        }
      ]
    },
    {
      "cell_type": "code",
      "source": [
        "# Reset index after grouping\n",
        "grouped_reset = grouped_agg.reset_index()\n",
        "print(grouped_reset)"
      ],
      "metadata": {
        "colab": {
          "base_uri": "https://localhost:8080/"
        },
        "id": "exxCCb_Yw9pk",
        "outputId": "078997e0-31f8-4dfd-d755-96c3a41342c1"
      },
      "execution_count": 18,
      "outputs": [
        {
          "output_type": "stream",
          "name": "stdout",
          "text": [
            "           Platform       sum        mean  count\n",
            "0           Blinkit  19705084  589.548947  33424\n",
            "1           JioMart  19562372  590.526519  33127\n",
            "2  Swiggy Instamart  19831984  592.902150  33449\n"
          ]
        }
      ]
    },
    {
      "cell_type": "code",
      "source": [
        "# Define a function to calculate the difference between each Order Value (INR) and the group's mean Order Value (INR)\n",
        "def order_diff(group):\n",
        "    return group - group.mean()\n",
        "\n",
        "# Group by 'Platform' and apply the custom function\n",
        "grouped_apply = df.groupby('Platform')['Order Value (INR)'].apply(order_diff).head(10)\n",
        "print(grouped_apply)"
      ],
      "metadata": {
        "colab": {
          "base_uri": "https://localhost:8080/"
        },
        "id": "D9cj2d7exPgc",
        "outputId": "6f3957ee-851f-4224-aba2-c50411f18f1f"
      },
      "execution_count": 21,
      "outputs": [
        {
          "output_type": "stream",
          "name": "stdout",
          "text": [
            "Platform    \n",
            "Blinkit   1     -310.548947\n",
            "          4     -255.548947\n",
            "          5     1349.451053\n",
            "          12     -73.548947\n",
            "          15    -446.548947\n",
            "          20     199.451053\n",
            "          21     149.451053\n",
            "          24     698.451053\n",
            "          25    -384.548947\n",
            "          26    -385.548947\n",
            "Name: Order Value (INR), dtype: float64\n"
          ]
        }
      ]
    },
    {
      "cell_type": "markdown",
      "source": [
        "● Handle missing values using .fillna(), .dropna()."
      ],
      "metadata": {
        "id": "JOKYvfy5ymum"
      }
    },
    {
      "cell_type": "code",
      "source": [
        "# Create a sample DataFrame with missing values\n",
        "data = {\n",
        "    'Name': ['Alice', 'Bob', 'Charlie', 'David', 'Eve'],\n",
        "    'Age': [25, np.nan, 30, 35, np.nan],\n",
        "    'Salary': [50000, 60000, np.nan, 80000, 55000]\n",
        "}\n",
        "\n",
        "df = pd.DataFrame(data)\n",
        "\n",
        "df.head()"
      ],
      "metadata": {
        "colab": {
          "base_uri": "https://localhost:8080/",
          "height": 206
        },
        "id": "P9NYfRR1ylul",
        "outputId": "cc304427-16f6-46d9-f8c7-f7f110d7a819"
      },
      "execution_count": 44,
      "outputs": [
        {
          "output_type": "execute_result",
          "data": {
            "text/plain": [
              "      Name   Age   Salary\n",
              "0    Alice  25.0  50000.0\n",
              "1      Bob   NaN  60000.0\n",
              "2  Charlie  30.0      NaN\n",
              "3    David  35.0  80000.0\n",
              "4      Eve   NaN  55000.0"
            ],
            "text/html": [
              "\n",
              "  <div id=\"df-54deacf7-3d59-4568-8d19-186187d846a8\" class=\"colab-df-container\">\n",
              "    <div>\n",
              "<style scoped>\n",
              "    .dataframe tbody tr th:only-of-type {\n",
              "        vertical-align: middle;\n",
              "    }\n",
              "\n",
              "    .dataframe tbody tr th {\n",
              "        vertical-align: top;\n",
              "    }\n",
              "\n",
              "    .dataframe thead th {\n",
              "        text-align: right;\n",
              "    }\n",
              "</style>\n",
              "<table border=\"1\" class=\"dataframe\">\n",
              "  <thead>\n",
              "    <tr style=\"text-align: right;\">\n",
              "      <th></th>\n",
              "      <th>Name</th>\n",
              "      <th>Age</th>\n",
              "      <th>Salary</th>\n",
              "    </tr>\n",
              "  </thead>\n",
              "  <tbody>\n",
              "    <tr>\n",
              "      <th>0</th>\n",
              "      <td>Alice</td>\n",
              "      <td>25.0</td>\n",
              "      <td>50000.0</td>\n",
              "    </tr>\n",
              "    <tr>\n",
              "      <th>1</th>\n",
              "      <td>Bob</td>\n",
              "      <td>NaN</td>\n",
              "      <td>60000.0</td>\n",
              "    </tr>\n",
              "    <tr>\n",
              "      <th>2</th>\n",
              "      <td>Charlie</td>\n",
              "      <td>30.0</td>\n",
              "      <td>NaN</td>\n",
              "    </tr>\n",
              "    <tr>\n",
              "      <th>3</th>\n",
              "      <td>David</td>\n",
              "      <td>35.0</td>\n",
              "      <td>80000.0</td>\n",
              "    </tr>\n",
              "    <tr>\n",
              "      <th>4</th>\n",
              "      <td>Eve</td>\n",
              "      <td>NaN</td>\n",
              "      <td>55000.0</td>\n",
              "    </tr>\n",
              "  </tbody>\n",
              "</table>\n",
              "</div>\n",
              "    <div class=\"colab-df-buttons\">\n",
              "\n",
              "  <div class=\"colab-df-container\">\n",
              "    <button class=\"colab-df-convert\" onclick=\"convertToInteractive('df-54deacf7-3d59-4568-8d19-186187d846a8')\"\n",
              "            title=\"Convert this dataframe to an interactive table.\"\n",
              "            style=\"display:none;\">\n",
              "\n",
              "  <svg xmlns=\"http://www.w3.org/2000/svg\" height=\"24px\" viewBox=\"0 -960 960 960\">\n",
              "    <path d=\"M120-120v-720h720v720H120Zm60-500h600v-160H180v160Zm220 220h160v-160H400v160Zm0 220h160v-160H400v160ZM180-400h160v-160H180v160Zm440 0h160v-160H620v160ZM180-180h160v-160H180v160Zm440 0h160v-160H620v160Z\"/>\n",
              "  </svg>\n",
              "    </button>\n",
              "\n",
              "  <style>\n",
              "    .colab-df-container {\n",
              "      display:flex;\n",
              "      gap: 12px;\n",
              "    }\n",
              "\n",
              "    .colab-df-convert {\n",
              "      background-color: #E8F0FE;\n",
              "      border: none;\n",
              "      border-radius: 50%;\n",
              "      cursor: pointer;\n",
              "      display: none;\n",
              "      fill: #1967D2;\n",
              "      height: 32px;\n",
              "      padding: 0 0 0 0;\n",
              "      width: 32px;\n",
              "    }\n",
              "\n",
              "    .colab-df-convert:hover {\n",
              "      background-color: #E2EBFA;\n",
              "      box-shadow: 0px 1px 2px rgba(60, 64, 67, 0.3), 0px 1px 3px 1px rgba(60, 64, 67, 0.15);\n",
              "      fill: #174EA6;\n",
              "    }\n",
              "\n",
              "    .colab-df-buttons div {\n",
              "      margin-bottom: 4px;\n",
              "    }\n",
              "\n",
              "    [theme=dark] .colab-df-convert {\n",
              "      background-color: #3B4455;\n",
              "      fill: #D2E3FC;\n",
              "    }\n",
              "\n",
              "    [theme=dark] .colab-df-convert:hover {\n",
              "      background-color: #434B5C;\n",
              "      box-shadow: 0px 1px 3px 1px rgba(0, 0, 0, 0.15);\n",
              "      filter: drop-shadow(0px 1px 2px rgba(0, 0, 0, 0.3));\n",
              "      fill: #FFFFFF;\n",
              "    }\n",
              "  </style>\n",
              "\n",
              "    <script>\n",
              "      const buttonEl =\n",
              "        document.querySelector('#df-54deacf7-3d59-4568-8d19-186187d846a8 button.colab-df-convert');\n",
              "      buttonEl.style.display =\n",
              "        google.colab.kernel.accessAllowed ? 'block' : 'none';\n",
              "\n",
              "      async function convertToInteractive(key) {\n",
              "        const element = document.querySelector('#df-54deacf7-3d59-4568-8d19-186187d846a8');\n",
              "        const dataTable =\n",
              "          await google.colab.kernel.invokeFunction('convertToInteractive',\n",
              "                                                    [key], {});\n",
              "        if (!dataTable) return;\n",
              "\n",
              "        const docLinkHtml = 'Like what you see? Visit the ' +\n",
              "          '<a target=\"_blank\" href=https://colab.research.google.com/notebooks/data_table.ipynb>data table notebook</a>'\n",
              "          + ' to learn more about interactive tables.';\n",
              "        element.innerHTML = '';\n",
              "        dataTable['output_type'] = 'display_data';\n",
              "        await google.colab.output.renderOutput(dataTable, element);\n",
              "        const docLink = document.createElement('div');\n",
              "        docLink.innerHTML = docLinkHtml;\n",
              "        element.appendChild(docLink);\n",
              "      }\n",
              "    </script>\n",
              "  </div>\n",
              "\n",
              "\n",
              "<div id=\"df-471a0306-3cdb-4a2f-8e39-8c342bb7c677\">\n",
              "  <button class=\"colab-df-quickchart\" onclick=\"quickchart('df-471a0306-3cdb-4a2f-8e39-8c342bb7c677')\"\n",
              "            title=\"Suggest charts\"\n",
              "            style=\"display:none;\">\n",
              "\n",
              "<svg xmlns=\"http://www.w3.org/2000/svg\" height=\"24px\"viewBox=\"0 0 24 24\"\n",
              "     width=\"24px\">\n",
              "    <g>\n",
              "        <path d=\"M19 3H5c-1.1 0-2 .9-2 2v14c0 1.1.9 2 2 2h14c1.1 0 2-.9 2-2V5c0-1.1-.9-2-2-2zM9 17H7v-7h2v7zm4 0h-2V7h2v10zm4 0h-2v-4h2v4z\"/>\n",
              "    </g>\n",
              "</svg>\n",
              "  </button>\n",
              "\n",
              "<style>\n",
              "  .colab-df-quickchart {\n",
              "      --bg-color: #E8F0FE;\n",
              "      --fill-color: #1967D2;\n",
              "      --hover-bg-color: #E2EBFA;\n",
              "      --hover-fill-color: #174EA6;\n",
              "      --disabled-fill-color: #AAA;\n",
              "      --disabled-bg-color: #DDD;\n",
              "  }\n",
              "\n",
              "  [theme=dark] .colab-df-quickchart {\n",
              "      --bg-color: #3B4455;\n",
              "      --fill-color: #D2E3FC;\n",
              "      --hover-bg-color: #434B5C;\n",
              "      --hover-fill-color: #FFFFFF;\n",
              "      --disabled-bg-color: #3B4455;\n",
              "      --disabled-fill-color: #666;\n",
              "  }\n",
              "\n",
              "  .colab-df-quickchart {\n",
              "    background-color: var(--bg-color);\n",
              "    border: none;\n",
              "    border-radius: 50%;\n",
              "    cursor: pointer;\n",
              "    display: none;\n",
              "    fill: var(--fill-color);\n",
              "    height: 32px;\n",
              "    padding: 0;\n",
              "    width: 32px;\n",
              "  }\n",
              "\n",
              "  .colab-df-quickchart:hover {\n",
              "    background-color: var(--hover-bg-color);\n",
              "    box-shadow: 0 1px 2px rgba(60, 64, 67, 0.3), 0 1px 3px 1px rgba(60, 64, 67, 0.15);\n",
              "    fill: var(--button-hover-fill-color);\n",
              "  }\n",
              "\n",
              "  .colab-df-quickchart-complete:disabled,\n",
              "  .colab-df-quickchart-complete:disabled:hover {\n",
              "    background-color: var(--disabled-bg-color);\n",
              "    fill: var(--disabled-fill-color);\n",
              "    box-shadow: none;\n",
              "  }\n",
              "\n",
              "  .colab-df-spinner {\n",
              "    border: 2px solid var(--fill-color);\n",
              "    border-color: transparent;\n",
              "    border-bottom-color: var(--fill-color);\n",
              "    animation:\n",
              "      spin 1s steps(1) infinite;\n",
              "  }\n",
              "\n",
              "  @keyframes spin {\n",
              "    0% {\n",
              "      border-color: transparent;\n",
              "      border-bottom-color: var(--fill-color);\n",
              "      border-left-color: var(--fill-color);\n",
              "    }\n",
              "    20% {\n",
              "      border-color: transparent;\n",
              "      border-left-color: var(--fill-color);\n",
              "      border-top-color: var(--fill-color);\n",
              "    }\n",
              "    30% {\n",
              "      border-color: transparent;\n",
              "      border-left-color: var(--fill-color);\n",
              "      border-top-color: var(--fill-color);\n",
              "      border-right-color: var(--fill-color);\n",
              "    }\n",
              "    40% {\n",
              "      border-color: transparent;\n",
              "      border-right-color: var(--fill-color);\n",
              "      border-top-color: var(--fill-color);\n",
              "    }\n",
              "    60% {\n",
              "      border-color: transparent;\n",
              "      border-right-color: var(--fill-color);\n",
              "    }\n",
              "    80% {\n",
              "      border-color: transparent;\n",
              "      border-right-color: var(--fill-color);\n",
              "      border-bottom-color: var(--fill-color);\n",
              "    }\n",
              "    90% {\n",
              "      border-color: transparent;\n",
              "      border-bottom-color: var(--fill-color);\n",
              "    }\n",
              "  }\n",
              "</style>\n",
              "\n",
              "  <script>\n",
              "    async function quickchart(key) {\n",
              "      const quickchartButtonEl =\n",
              "        document.querySelector('#' + key + ' button');\n",
              "      quickchartButtonEl.disabled = true;  // To prevent multiple clicks.\n",
              "      quickchartButtonEl.classList.add('colab-df-spinner');\n",
              "      try {\n",
              "        const charts = await google.colab.kernel.invokeFunction(\n",
              "            'suggestCharts', [key], {});\n",
              "      } catch (error) {\n",
              "        console.error('Error during call to suggestCharts:', error);\n",
              "      }\n",
              "      quickchartButtonEl.classList.remove('colab-df-spinner');\n",
              "      quickchartButtonEl.classList.add('colab-df-quickchart-complete');\n",
              "    }\n",
              "    (() => {\n",
              "      let quickchartButtonEl =\n",
              "        document.querySelector('#df-471a0306-3cdb-4a2f-8e39-8c342bb7c677 button');\n",
              "      quickchartButtonEl.style.display =\n",
              "        google.colab.kernel.accessAllowed ? 'block' : 'none';\n",
              "    })();\n",
              "  </script>\n",
              "</div>\n",
              "\n",
              "    </div>\n",
              "  </div>\n"
            ],
            "application/vnd.google.colaboratory.intrinsic+json": {
              "type": "dataframe",
              "variable_name": "df",
              "summary": "{\n  \"name\": \"df\",\n  \"rows\": 5,\n  \"fields\": [\n    {\n      \"column\": \"Name\",\n      \"properties\": {\n        \"dtype\": \"string\",\n        \"num_unique_values\": 5,\n        \"samples\": [\n          \"Bob\",\n          \"Eve\",\n          \"Charlie\"\n        ],\n        \"semantic_type\": \"\",\n        \"description\": \"\"\n      }\n    },\n    {\n      \"column\": \"Age\",\n      \"properties\": {\n        \"dtype\": \"number\",\n        \"std\": 5.0,\n        \"min\": 25.0,\n        \"max\": 35.0,\n        \"num_unique_values\": 3,\n        \"samples\": [\n          25.0,\n          30.0,\n          35.0\n        ],\n        \"semantic_type\": \"\",\n        \"description\": \"\"\n      }\n    },\n    {\n      \"column\": \"Salary\",\n      \"properties\": {\n        \"dtype\": \"number\",\n        \"std\": 13149.778198382915,\n        \"min\": 50000.0,\n        \"max\": 80000.0,\n        \"num_unique_values\": 4,\n        \"samples\": [\n          60000.0,\n          55000.0,\n          50000.0\n        ],\n        \"semantic_type\": \"\",\n        \"description\": \"\"\n      }\n    }\n  ]\n}"
            }
          },
          "metadata": {},
          "execution_count": 44
        }
      ]
    },
    {
      "cell_type": "code",
      "source": [
        "# Fill missing values with a constant (e.g., 0 for 'Age' and 25000 for 'Salary')\n",
        "df['Age'] = df['Age'].fillna(30)\n",
        "df['Salary'] = df['Salary'].fillna(25000)\n",
        "print(df)"
      ],
      "metadata": {
        "colab": {
          "base_uri": "https://localhost:8080/"
        },
        "id": "DrNoT_9xy7V2",
        "outputId": "27a8c41c-0956-4057-8b87-053135b76cff"
      },
      "execution_count": 25,
      "outputs": [
        {
          "output_type": "stream",
          "name": "stdout",
          "text": [
            "      Name   Age   Salary\n",
            "0    Alice  25.0  50000.0\n",
            "1      Bob  30.0  60000.0\n",
            "2  Charlie  30.0  25000.0\n",
            "3    David  35.0  80000.0\n",
            "4      Eve  30.0  55000.0\n"
          ]
        }
      ]
    },
    {
      "cell_type": "code",
      "source": [
        "# Fill missing values with the mean of the 'Age' column\n",
        "df['Age'] = df['Age'].fillna(df['Age'].mean())\n",
        "\n",
        "# Fill missing values with the median of the 'Salary' column\n",
        "df['Salary'] = df['Salary'].fillna(df['Salary'].median())\n",
        "\n",
        "print(df)"
      ],
      "metadata": {
        "colab": {
          "base_uri": "https://localhost:8080/"
        },
        "id": "MQk_CscyzMh3",
        "outputId": "112b3199-b576-491d-d38d-4bc2ff0f9997"
      },
      "execution_count": 28,
      "outputs": [
        {
          "output_type": "stream",
          "name": "stdout",
          "text": [
            "      Name   Age   Salary\n",
            "0    Alice  25.0  50000.0\n",
            "1      Bob  30.0  60000.0\n",
            "2  Charlie  30.0  57500.0\n",
            "3    David  35.0  80000.0\n",
            "4      Eve  30.0  55000.0\n"
          ]
        }
      ]
    },
    {
      "cell_type": "code",
      "source": [
        "#use forward filling (use the previous row's value) or backward filling (use the next row's value) to fill missing values.\n",
        "# Backward fill missing values\n",
        "df['Salary'] = df['Salary'].fillna(method='bfill')\n",
        "\n",
        "# Forward fill missing values\n",
        "df['Age'] = df['Age'].fillna(method='ffill')\n",
        "\n",
        "print(df)"
      ],
      "metadata": {
        "colab": {
          "base_uri": "https://localhost:8080/"
        },
        "id": "34kyErl6znT3",
        "outputId": "9a55c37b-b443-4836-febc-58a2fe55257a"
      },
      "execution_count": 33,
      "outputs": [
        {
          "output_type": "stream",
          "name": "stdout",
          "text": [
            "      Name   Age   Salary\n",
            "0    Alice  25.0  50000.0\n",
            "1      Bob  25.0  60000.0\n",
            "2  Charlie  30.0  80000.0\n",
            "3    David  35.0  80000.0\n",
            "4      Eve  35.0  55000.0\n"
          ]
        }
      ]
    },
    {
      "cell_type": "code",
      "source": [
        "# Drop rows with any missing values\n",
        "df_cleaned = df.dropna()\n",
        "print(df_cleaned)"
      ],
      "metadata": {
        "colab": {
          "base_uri": "https://localhost:8080/"
        },
        "id": "-Mlirpg-0Nvf",
        "outputId": "8e0ec555-bab4-41d1-ab17-393f28768f64"
      },
      "execution_count": 35,
      "outputs": [
        {
          "output_type": "stream",
          "name": "stdout",
          "text": [
            "    Name   Age   Salary\n",
            "0  Alice  25.0  50000.0\n",
            "3  David  35.0  80000.0\n"
          ]
        }
      ]
    },
    {
      "cell_type": "code",
      "source": [
        "# Drop rows where 'Salary' column has missing values\n",
        "df_cleaned_salary = df.dropna(subset=['Salary'])\n",
        "print(df_cleaned_salary)"
      ],
      "metadata": {
        "colab": {
          "base_uri": "https://localhost:8080/"
        },
        "id": "PFQ05jTg0blo",
        "outputId": "f026d9de-321b-4612-aa22-50c0a7c33e35"
      },
      "execution_count": 37,
      "outputs": [
        {
          "output_type": "stream",
          "name": "stdout",
          "text": [
            "    Name   Age   Salary\n",
            "0  Alice  25.0  50000.0\n",
            "1    Bob   NaN  60000.0\n",
            "3  David  35.0  80000.0\n",
            "4    Eve   NaN  55000.0\n"
          ]
        }
      ]
    },
    {
      "cell_type": "code",
      "source": [
        "# Drop columns that contain any missing values\n",
        "df_cleaned_columns = df.dropna(axis=1)\n",
        "print(df_cleaned_columns)"
      ],
      "metadata": {
        "colab": {
          "base_uri": "https://localhost:8080/"
        },
        "id": "4FhLc06U0mSk",
        "outputId": "e9c6f35e-60d2-4f71-82e7-6d58cabb9a14"
      },
      "execution_count": 42,
      "outputs": [
        {
          "output_type": "stream",
          "name": "stdout",
          "text": [
            "      Name\n",
            "0    Alice\n",
            "1      Bob\n",
            "2  Charlie\n",
            "3    David\n",
            "4      Eve\n"
          ]
        }
      ]
    },
    {
      "cell_type": "code",
      "source": [
        "# Drop rows where all columns have missing values\n",
        "df_cleaned_all = df.dropna(how='all')\n",
        "print(df_cleaned_all)"
      ],
      "metadata": {
        "colab": {
          "base_uri": "https://localhost:8080/"
        },
        "id": "SCaquWag0uRZ",
        "outputId": "655c79a4-1768-4a7e-eebb-36186c32822f"
      },
      "execution_count": 45,
      "outputs": [
        {
          "output_type": "stream",
          "name": "stdout",
          "text": [
            "      Name   Age   Salary\n",
            "0    Alice  25.0  50000.0\n",
            "1      Bob   NaN  60000.0\n",
            "2  Charlie  30.0      NaN\n",
            "3    David  35.0  80000.0\n",
            "4      Eve   NaN  55000.0\n"
          ]
        }
      ]
    },
    {
      "cell_type": "markdown",
      "source": [
        "**4. Data Preprocessing & Transformation:**\n",
        "\n",
        "● Normalize numerical columns using NumPy operations."
      ],
      "metadata": {
        "id": "2D0oLL2F1FI0"
      }
    },
    {
      "cell_type": "markdown",
      "source": [
        "Normalizing numerical columns is a common step in data preprocessing, especially for machine learning models, to ensure that features are on the same scale. Normalization typically involves scaling the numerical values of each column to a specific range, such as between 0 and 1.\n",
        "\n",
        "Here’s how you can normalize numerical columns in a DataFrame using NumPy operations:\n",
        "\n",
        "1. Min-Max Normalization\n",
        "Min-Max normalization scales the data to a fixed range, typically [0, 1]. The formula for Min-Max normalization is:"
      ],
      "metadata": {
        "id": "DmUWV4xA1zcN"
      }
    },
    {
      "cell_type": "code",
      "source": [
        "# Create a sample DataFrame\n",
        "data = {\n",
        "    'Age': [25, 30, 35, 40, 45],\n",
        "    'Salary': [50000, 60000, 70000, 80000, 90000]\n",
        "}\n",
        "\n",
        "df = pd.DataFrame(data)\n",
        "\n",
        "# Min-Max normalization for 'Age' and 'Salary'\n",
        "df['Age'] = (df['Age'] - df['Age'].min()) / (df['Age'].max() - df['Age'].min())\n",
        "df['Salary'] = (df['Salary'] - df['Salary'].min()) / (df['Salary'].max() - df['Salary'].min())\n",
        "\n",
        "print(df)"
      ],
      "metadata": {
        "colab": {
          "base_uri": "https://localhost:8080/"
        },
        "id": "oiWnPdnk1BOH",
        "outputId": "e53a662c-e675-4c00-f900-24496787a5e1"
      },
      "execution_count": 49,
      "outputs": [
        {
          "output_type": "stream",
          "name": "stdout",
          "text": [
            "    Age  Salary\n",
            "0  0.00    0.00\n",
            "1  0.25    0.25\n",
            "2  0.50    0.50\n",
            "3  0.75    0.75\n",
            "4  1.00    1.00\n"
          ]
        }
      ]
    },
    {
      "cell_type": "markdown",
      "source": [
        "2. Z-Score Normalization (Standardization)\n",
        "Z-score normalization, also called standardization, transforms the data to have a mean of 0 and a standard deviation of 1. The formula for Z-score normalization is:\n",
        "\n",
        "X\n",
        "standardized\n",
        "=\n",
        "(X - μ)/σ\n",
        "\n",
        "\n",
        "\n",
        "\n",
        "Where:\n",
        "\n",
        "μ is the mean of the column\n",
        "\n",
        "σ is the standard deviation of the column"
      ],
      "metadata": {
        "id": "R36Pvwjn2Wa-"
      }
    },
    {
      "cell_type": "code",
      "source": [
        "# Z-score normalization for 'Age' and 'Salary'\n",
        "df['Age'] = (df['Age'] - df['Age'].mean()) / df['Age'].std()\n",
        "df['Salary'] = (df['Salary'] - df['Salary'].mean()) / df['Salary'].std()\n",
        "\n",
        "print(df)"
      ],
      "metadata": {
        "colab": {
          "base_uri": "https://localhost:8080/"
        },
        "id": "2vmyI59q2Yc-",
        "outputId": "2084c80f-c288-4501-f66a-7cdd9b1b421a"
      },
      "execution_count": 50,
      "outputs": [
        {
          "output_type": "stream",
          "name": "stdout",
          "text": [
            "        Age    Salary\n",
            "0 -1.264911 -1.264911\n",
            "1 -0.632456 -0.632456\n",
            "2  0.000000  0.000000\n",
            "3  0.632456  0.632456\n",
            "4  1.264911  1.264911\n"
          ]
        }
      ]
    },
    {
      "cell_type": "markdown",
      "source": [
        " Scaling to a Specific Range (Custom Range Normalization)\n",
        "You can also scale your data to any custom range [a, b] instead of [0, 1]. The formula for this type of scaling is:\n",
        "\n",
        "𝑋\n",
        "scaled\n",
        "=\n",
        "𝑎\n",
        "+\n",
        "(\n",
        "𝑋\n",
        "−\n",
        "𝑋\n",
        "min\n",
        ")/\n",
        "(\n",
        "𝑋\n",
        "max\n",
        "−\n",
        "𝑋\n",
        "min\n",
        ")\n",
        "×\n",
        "(\n",
        "𝑏\n",
        "−\n",
        "𝑎\n",
        ")\n"
      ],
      "metadata": {
        "id": "F3cshFmY3In6"
      }
    },
    {
      "cell_type": "code",
      "source": [
        "# Define custom range [10, 20]\n",
        "a, b = 10, 20\n",
        "\n",
        "# Scale 'Age' and 'Salary' to the range [10, 20]\n",
        "df['Age'] = a + ((df['Age'] - df['Age'].min()) / (df['Age'].max() - df['Age'].min())) * (b - a)\n",
        "df['Salary'] = a + ((df['Salary'] - df['Salary'].min()) / (df['Salary'].max() - df['Salary'].min())) * (b - a)\n",
        "\n",
        "print(df)"
      ],
      "metadata": {
        "colab": {
          "base_uri": "https://localhost:8080/"
        },
        "id": "JS5ZstTA3JzR",
        "outputId": "ef42ddfa-362c-468f-8f48-a9ca8d98776f"
      },
      "execution_count": 51,
      "outputs": [
        {
          "output_type": "stream",
          "name": "stdout",
          "text": [
            "    Age  Salary\n",
            "0  10.0    10.0\n",
            "1  12.5    12.5\n",
            "2  15.0    15.0\n",
            "3  17.5    17.5\n",
            "4  20.0    20.0\n"
          ]
        }
      ]
    },
    {
      "cell_type": "markdown",
      "source": [
        "● Apply transformations like log() scaling."
      ],
      "metadata": {
        "id": "XTpnCdn7304F"
      }
    },
    {
      "cell_type": "markdown",
      "source": [
        "Log scaling (or log transformation) is a common technique used in data preprocessing to transform data that has a skewed distribution, especially when there are large variations in the magnitude of values. It helps in reducing the effect of extreme values (outliers) and can make the data more normally distributed, which is beneficial for many machine learning algorithms.\n",
        "\n",
        "The log transformation is typically applied using the natural logarithm (log()), but it can also be applied using other bases, such as base 10 or base 2.\n",
        "\n",
        "1. Log Transformation using np.log() (Natural Log)\n",
        "The natural logarithm (base e) is the most common log transformation applied to data. Here's how to perform log scaling using np.log()."
      ],
      "metadata": {
        "id": "jE4QZIio4NFN"
      }
    },
    {
      "cell_type": "code",
      "source": [
        "# Create a sample DataFrame with skewed data\n",
        "data = {\n",
        "    'Income': [1000, 5000, 10000, 50000, 100000]\n",
        "}\n",
        "\n",
        "df = pd.DataFrame(data)\n",
        "\n",
        "# Apply log transformation using np.log() (natural logarithm)\n",
        "df['Log_Income'] = np.log(df['Income'])\n",
        "\n",
        "print(df)"
      ],
      "metadata": {
        "colab": {
          "base_uri": "https://localhost:8080/"
        },
        "id": "yuS4RXlR31h9",
        "outputId": "defd007c-117d-4402-934c-5d8b86cde187"
      },
      "execution_count": 52,
      "outputs": [
        {
          "output_type": "stream",
          "name": "stdout",
          "text": [
            "   Income  Log_Income\n",
            "0    1000    6.907755\n",
            "1    5000    8.517193\n",
            "2   10000    9.210340\n",
            "3   50000   10.819778\n",
            "4  100000   11.512925\n"
          ]
        }
      ]
    },
    {
      "cell_type": "markdown",
      "source": [
        "If you want to apply a log transformation with base 10, you can use np.log10(). This can be useful when you want the scale to be more intuitive or to represent large differences in a more manageable way."
      ],
      "metadata": {
        "id": "guzJg_8P4xM-"
      }
    },
    {
      "cell_type": "code",
      "source": [
        "# Apply log transformation using np.log10() (base 10 logarithm)\n",
        "df['Log10_Income'] = np.log10(df['Income'])\n",
        "\n",
        "print(df)"
      ],
      "metadata": {
        "colab": {
          "base_uri": "https://localhost:8080/"
        },
        "id": "5mF1R07e4yCA",
        "outputId": "386006ad-d211-4fdb-8c87-84a758b40cad"
      },
      "execution_count": 53,
      "outputs": [
        {
          "output_type": "stream",
          "name": "stdout",
          "text": [
            "   Income  Log_Income  Log10_Income\n",
            "0    1000    6.907755       3.00000\n",
            "1    5000    8.517193       3.69897\n",
            "2   10000    9.210340       4.00000\n",
            "3   50000   10.819778       4.69897\n",
            "4  100000   11.512925       5.00000\n"
          ]
        }
      ]
    },
    {
      "cell_type": "code",
      "source": [
        "# Create a sample DataFrame with zero and negative values\n",
        "data_with_zeros = {\n",
        "    'Income': [1000, 5000, 0, 50000, -100]\n",
        "}\n",
        "\n",
        "df_with_zeros = pd.DataFrame(data_with_zeros)\n",
        "\n",
        "# Add a small constant (1) to avoid log(0) or negative values\n",
        "df_with_zeros['Log_Income'] = np.log(df_with_zeros['Income'] + 1)\n",
        "\n",
        "print(df_with_zeros)"
      ],
      "metadata": {
        "colab": {
          "base_uri": "https://localhost:8080/"
        },
        "id": "oEO0M4xW5eNo",
        "outputId": "0be95a81-5174-4afc-e9ca-295b7e519356"
      },
      "execution_count": 54,
      "outputs": [
        {
          "output_type": "stream",
          "name": "stdout",
          "text": [
            "   Income  Log_Income\n",
            "0    1000    6.908755\n",
            "1    5000    8.517393\n",
            "2       0    0.000000\n",
            "3   50000   10.819798\n",
            "4    -100         NaN\n"
          ]
        }
      ]
    },
    {
      "cell_type": "markdown",
      "source": [
        "In this case, the Price column was heavily skewed, and after applying the log transformation, the distribution becomes more compressed and normalized, which can help with modeling."
      ],
      "metadata": {
        "id": "wYtlmAlK5yYf"
      }
    },
    {
      "cell_type": "code",
      "source": [
        "# Create skewed data\n",
        "skewed_data = {\n",
        "    'Price': [1, 2, 3, 10, 50, 100, 500, 1000, 10000, 50000]\n",
        "}\n",
        "\n",
        "df_skewed = pd.DataFrame(skewed_data)\n",
        "\n",
        "# Apply log transformation\n",
        "df_skewed['Log_Price'] = np.log(df_skewed['Price'])\n",
        "\n",
        "print(df_skewed)"
      ],
      "metadata": {
        "colab": {
          "base_uri": "https://localhost:8080/"
        },
        "id": "jKYktv6u5jgA",
        "outputId": "352bf63c-b659-4ab8-beb3-4fae5ce1b50d"
      },
      "execution_count": 55,
      "outputs": [
        {
          "output_type": "stream",
          "name": "stdout",
          "text": [
            "   Price  Log_Price\n",
            "0      1   0.000000\n",
            "1      2   0.693147\n",
            "2      3   1.098612\n",
            "3     10   2.302585\n",
            "4     50   3.912023\n",
            "5    100   4.605170\n",
            "6    500   6.214608\n",
            "7   1000   6.907755\n",
            "8  10000   9.210340\n",
            "9  50000  10.819778\n"
          ]
        }
      ]
    },
    {
      "cell_type": "markdown",
      "source": [
        "● Convert categorical variables into numerical format using Pandas .get_dummies()."
      ],
      "metadata": {
        "id": "O3Th2BqO4iEN"
      }
    },
    {
      "cell_type": "markdown",
      "source": [
        "In data preprocessing, it is common to convert categorical variables (which represent qualitative data) into numerical format. This is necessary because most machine learning algorithms work with numerical data and cannot directly process categorical variables.\n",
        "\n",
        "One of the most popular methods for converting categorical variables into numerical format is one-hot encoding, and pandas provides a convenient method .get_dummies() to achieve this.\n",
        "\n",
        "1. Using .get_dummies() for One-Hot Encoding\n",
        "The .get_dummies() function converts categorical variables into a series of binary (0 or 1) columns, where each column represents a category in the original variable."
      ],
      "metadata": {
        "id": "tuJVa_oa7UBj"
      }
    },
    {
      "cell_type": "code",
      "source": [
        "# Create a sample DataFrame with a categorical column\n",
        "data = {\n",
        "    'Name': ['Alice', 'Bob', 'Charlie', 'David'],\n",
        "    'City': ['New York', 'Los Angeles', 'New York', 'Los Angeles']\n",
        "}\n",
        "\n",
        "df = pd.DataFrame(data)\n",
        "\n",
        "# Convert the 'City' column into one-hot encoded columns\n",
        "df_encoded = pd.get_dummies(df, columns=['City'])\n",
        "\n",
        "print(df_encoded)"
      ],
      "metadata": {
        "colab": {
          "base_uri": "https://localhost:8080/"
        },
        "id": "3E5RkOWu4fY1",
        "outputId": "4b41f5f6-d033-4c28-9669-7f098cc4d8ee"
      },
      "execution_count": 57,
      "outputs": [
        {
          "output_type": "stream",
          "name": "stdout",
          "text": [
            "      Name  City_Los Angeles  City_New York\n",
            "0    Alice             False           True\n",
            "1      Bob              True          False\n",
            "2  Charlie             False           True\n",
            "3    David              True          False\n"
          ]
        }
      ]
    },
    {
      "cell_type": "code",
      "source": [
        "# Create a sample DataFrame with multiple categorical columns\n",
        "data = {\n",
        "    'Name': ['Alice', 'Bob', 'Charlie', 'David'],\n",
        "    'City': ['New York', 'Los Angeles', 'New York', 'Los Angeles'],\n",
        "    'Gender': ['F', 'M', 'M', 'M']\n",
        "}\n",
        "\n",
        "df = pd.DataFrame(data)\n",
        "\n",
        "# Convert both 'City' and 'Gender' columns into dummy variables\n",
        "df_encoded = pd.get_dummies(df, columns=['City', 'Gender'])\n",
        "\n",
        "print(df_encoded)"
      ],
      "metadata": {
        "colab": {
          "base_uri": "https://localhost:8080/"
        },
        "id": "guOkhgGU7w2-",
        "outputId": "81e6bd8e-fede-4cb3-c6a7-ad7dd3d97c98"
      },
      "execution_count": 58,
      "outputs": [
        {
          "output_type": "stream",
          "name": "stdout",
          "text": [
            "      Name  City_Los Angeles  City_New York  Gender_F  Gender_M\n",
            "0    Alice             False           True      True     False\n",
            "1      Bob              True          False     False      True\n",
            "2  Charlie             False           True     False      True\n",
            "3    David              True          False     False      True\n"
          ]
        }
      ]
    },
    {
      "cell_type": "code",
      "source": [
        "# Convert 'City' column with a prefix 'Place_'\n",
        "df_encoded = pd.get_dummies(df, columns=['City'], prefix=['Place'])\n",
        "\n",
        "print(df_encoded)"
      ],
      "metadata": {
        "colab": {
          "base_uri": "https://localhost:8080/"
        },
        "id": "5-WlKUu79kAJ",
        "outputId": "d6565847-cad2-44a7-ff7e-e09e19dad0ae"
      },
      "execution_count": 59,
      "outputs": [
        {
          "output_type": "stream",
          "name": "stdout",
          "text": [
            "      Name Gender  Place_Los Angeles  Place_New York\n",
            "0    Alice      F              False            True\n",
            "1      Bob      M               True           False\n",
            "2  Charlie      M              False            True\n",
            "3    David      M               True           False\n"
          ]
        }
      ]
    },
    {
      "cell_type": "code",
      "source": [
        "# Drop the first category (in this case, 'City_New York')\n",
        "df_encoded = pd.get_dummies(df, columns=['City'], drop_first=True)\n",
        "\n",
        "print(df_encoded)"
      ],
      "metadata": {
        "colab": {
          "base_uri": "https://localhost:8080/"
        },
        "id": "dmoAFz969t_K",
        "outputId": "a6a62586-3e0f-40bd-9405-6b39bb636fec"
      },
      "execution_count": 60,
      "outputs": [
        {
          "output_type": "stream",
          "name": "stdout",
          "text": [
            "      Name Gender  City_New York\n",
            "0    Alice      F           True\n",
            "1      Bob      M          False\n",
            "2  Charlie      M           True\n",
            "3    David      M          False\n"
          ]
        }
      ]
    },
    {
      "cell_type": "code",
      "source": [
        "# Create a DataFrame with missing values in the categorical column\n",
        "data_with_missing = {\n",
        "    'Name': ['Alice', 'Bob', 'Charlie', 'David'],\n",
        "    'City': ['New York', 'Los Angeles', None, 'New York']\n",
        "}\n",
        "\n",
        "df_with_missing = pd.DataFrame(data_with_missing)\n",
        "\n"
      ],
      "metadata": {
        "id": "4vF8gpDt905I"
      },
      "execution_count": 62,
      "outputs": []
    },
    {
      "cell_type": "code",
      "source": [
        "# Convert the 'City' column into dummy variables, including a column for missing data\n",
        "df_encoded = pd.get_dummies(df_with_missing, columns=['City'])\n",
        "\n",
        "print(df_encoded)"
      ],
      "metadata": {
        "colab": {
          "base_uri": "https://localhost:8080/"
        },
        "id": "VpjqftVtCYqE",
        "outputId": "fa8e8584-75c6-4961-c7ba-46dec541f0d3"
      },
      "execution_count": 63,
      "outputs": [
        {
          "output_type": "stream",
          "name": "stdout",
          "text": [
            "      Name  City_Los Angeles  City_New York\n",
            "0    Alice             False           True\n",
            "1      Bob              True          False\n",
            "2  Charlie             False          False\n",
            "3    David             False           True\n"
          ]
        }
      ]
    },
    {
      "cell_type": "markdown",
      "source": [
        "**5. Data Visualization:**\n",
        "\n",
        "● Generate summary statistics using .describe()."
      ],
      "metadata": {
        "id": "IF1yos4hCoew"
      }
    },
    {
      "cell_type": "code",
      "source": [
        "diabetes = pd.read_csv('diabetes.csv')"
      ],
      "metadata": {
        "id": "su42pZsZCrdS"
      },
      "execution_count": 64,
      "outputs": []
    },
    {
      "cell_type": "code",
      "source": [
        "diabetes.describe()"
      ],
      "metadata": {
        "colab": {
          "base_uri": "https://localhost:8080/",
          "height": 300
        },
        "id": "J7Bu8P1lFejB",
        "outputId": "3e2ed057-3252-452d-dffe-ca9e611327b9"
      },
      "execution_count": 65,
      "outputs": [
        {
          "output_type": "execute_result",
          "data": {
            "text/plain": [
              "       Pregnancies     Glucose  BloodPressure  SkinThickness     Insulin  \\\n",
              "count   768.000000  768.000000     768.000000     768.000000  768.000000   \n",
              "mean      3.845052  120.894531      69.105469      20.536458   79.799479   \n",
              "std       3.369578   31.972618      19.355807      15.952218  115.244002   \n",
              "min       0.000000    0.000000       0.000000       0.000000    0.000000   \n",
              "25%       1.000000   99.000000      62.000000       0.000000    0.000000   \n",
              "50%       3.000000  117.000000      72.000000      23.000000   30.500000   \n",
              "75%       6.000000  140.250000      80.000000      32.000000  127.250000   \n",
              "max      17.000000  199.000000     122.000000      99.000000  846.000000   \n",
              "\n",
              "              BMI  DiabetesPedigreeFunction         Age     Outcome  \n",
              "count  768.000000                768.000000  768.000000  768.000000  \n",
              "mean    31.992578                  0.471876   33.240885    0.348958  \n",
              "std      7.884160                  0.331329   11.760232    0.476951  \n",
              "min      0.000000                  0.078000   21.000000    0.000000  \n",
              "25%     27.300000                  0.243750   24.000000    0.000000  \n",
              "50%     32.000000                  0.372500   29.000000    0.000000  \n",
              "75%     36.600000                  0.626250   41.000000    1.000000  \n",
              "max     67.100000                  2.420000   81.000000    1.000000  "
            ],
            "text/html": [
              "\n",
              "  <div id=\"df-de6ac7e2-dfe6-4e85-98da-0c7aca3c0327\" class=\"colab-df-container\">\n",
              "    <div>\n",
              "<style scoped>\n",
              "    .dataframe tbody tr th:only-of-type {\n",
              "        vertical-align: middle;\n",
              "    }\n",
              "\n",
              "    .dataframe tbody tr th {\n",
              "        vertical-align: top;\n",
              "    }\n",
              "\n",
              "    .dataframe thead th {\n",
              "        text-align: right;\n",
              "    }\n",
              "</style>\n",
              "<table border=\"1\" class=\"dataframe\">\n",
              "  <thead>\n",
              "    <tr style=\"text-align: right;\">\n",
              "      <th></th>\n",
              "      <th>Pregnancies</th>\n",
              "      <th>Glucose</th>\n",
              "      <th>BloodPressure</th>\n",
              "      <th>SkinThickness</th>\n",
              "      <th>Insulin</th>\n",
              "      <th>BMI</th>\n",
              "      <th>DiabetesPedigreeFunction</th>\n",
              "      <th>Age</th>\n",
              "      <th>Outcome</th>\n",
              "    </tr>\n",
              "  </thead>\n",
              "  <tbody>\n",
              "    <tr>\n",
              "      <th>count</th>\n",
              "      <td>768.000000</td>\n",
              "      <td>768.000000</td>\n",
              "      <td>768.000000</td>\n",
              "      <td>768.000000</td>\n",
              "      <td>768.000000</td>\n",
              "      <td>768.000000</td>\n",
              "      <td>768.000000</td>\n",
              "      <td>768.000000</td>\n",
              "      <td>768.000000</td>\n",
              "    </tr>\n",
              "    <tr>\n",
              "      <th>mean</th>\n",
              "      <td>3.845052</td>\n",
              "      <td>120.894531</td>\n",
              "      <td>69.105469</td>\n",
              "      <td>20.536458</td>\n",
              "      <td>79.799479</td>\n",
              "      <td>31.992578</td>\n",
              "      <td>0.471876</td>\n",
              "      <td>33.240885</td>\n",
              "      <td>0.348958</td>\n",
              "    </tr>\n",
              "    <tr>\n",
              "      <th>std</th>\n",
              "      <td>3.369578</td>\n",
              "      <td>31.972618</td>\n",
              "      <td>19.355807</td>\n",
              "      <td>15.952218</td>\n",
              "      <td>115.244002</td>\n",
              "      <td>7.884160</td>\n",
              "      <td>0.331329</td>\n",
              "      <td>11.760232</td>\n",
              "      <td>0.476951</td>\n",
              "    </tr>\n",
              "    <tr>\n",
              "      <th>min</th>\n",
              "      <td>0.000000</td>\n",
              "      <td>0.000000</td>\n",
              "      <td>0.000000</td>\n",
              "      <td>0.000000</td>\n",
              "      <td>0.000000</td>\n",
              "      <td>0.000000</td>\n",
              "      <td>0.078000</td>\n",
              "      <td>21.000000</td>\n",
              "      <td>0.000000</td>\n",
              "    </tr>\n",
              "    <tr>\n",
              "      <th>25%</th>\n",
              "      <td>1.000000</td>\n",
              "      <td>99.000000</td>\n",
              "      <td>62.000000</td>\n",
              "      <td>0.000000</td>\n",
              "      <td>0.000000</td>\n",
              "      <td>27.300000</td>\n",
              "      <td>0.243750</td>\n",
              "      <td>24.000000</td>\n",
              "      <td>0.000000</td>\n",
              "    </tr>\n",
              "    <tr>\n",
              "      <th>50%</th>\n",
              "      <td>3.000000</td>\n",
              "      <td>117.000000</td>\n",
              "      <td>72.000000</td>\n",
              "      <td>23.000000</td>\n",
              "      <td>30.500000</td>\n",
              "      <td>32.000000</td>\n",
              "      <td>0.372500</td>\n",
              "      <td>29.000000</td>\n",
              "      <td>0.000000</td>\n",
              "    </tr>\n",
              "    <tr>\n",
              "      <th>75%</th>\n",
              "      <td>6.000000</td>\n",
              "      <td>140.250000</td>\n",
              "      <td>80.000000</td>\n",
              "      <td>32.000000</td>\n",
              "      <td>127.250000</td>\n",
              "      <td>36.600000</td>\n",
              "      <td>0.626250</td>\n",
              "      <td>41.000000</td>\n",
              "      <td>1.000000</td>\n",
              "    </tr>\n",
              "    <tr>\n",
              "      <th>max</th>\n",
              "      <td>17.000000</td>\n",
              "      <td>199.000000</td>\n",
              "      <td>122.000000</td>\n",
              "      <td>99.000000</td>\n",
              "      <td>846.000000</td>\n",
              "      <td>67.100000</td>\n",
              "      <td>2.420000</td>\n",
              "      <td>81.000000</td>\n",
              "      <td>1.000000</td>\n",
              "    </tr>\n",
              "  </tbody>\n",
              "</table>\n",
              "</div>\n",
              "    <div class=\"colab-df-buttons\">\n",
              "\n",
              "  <div class=\"colab-df-container\">\n",
              "    <button class=\"colab-df-convert\" onclick=\"convertToInteractive('df-de6ac7e2-dfe6-4e85-98da-0c7aca3c0327')\"\n",
              "            title=\"Convert this dataframe to an interactive table.\"\n",
              "            style=\"display:none;\">\n",
              "\n",
              "  <svg xmlns=\"http://www.w3.org/2000/svg\" height=\"24px\" viewBox=\"0 -960 960 960\">\n",
              "    <path d=\"M120-120v-720h720v720H120Zm60-500h600v-160H180v160Zm220 220h160v-160H400v160Zm0 220h160v-160H400v160ZM180-400h160v-160H180v160Zm440 0h160v-160H620v160ZM180-180h160v-160H180v160Zm440 0h160v-160H620v160Z\"/>\n",
              "  </svg>\n",
              "    </button>\n",
              "\n",
              "  <style>\n",
              "    .colab-df-container {\n",
              "      display:flex;\n",
              "      gap: 12px;\n",
              "    }\n",
              "\n",
              "    .colab-df-convert {\n",
              "      background-color: #E8F0FE;\n",
              "      border: none;\n",
              "      border-radius: 50%;\n",
              "      cursor: pointer;\n",
              "      display: none;\n",
              "      fill: #1967D2;\n",
              "      height: 32px;\n",
              "      padding: 0 0 0 0;\n",
              "      width: 32px;\n",
              "    }\n",
              "\n",
              "    .colab-df-convert:hover {\n",
              "      background-color: #E2EBFA;\n",
              "      box-shadow: 0px 1px 2px rgba(60, 64, 67, 0.3), 0px 1px 3px 1px rgba(60, 64, 67, 0.15);\n",
              "      fill: #174EA6;\n",
              "    }\n",
              "\n",
              "    .colab-df-buttons div {\n",
              "      margin-bottom: 4px;\n",
              "    }\n",
              "\n",
              "    [theme=dark] .colab-df-convert {\n",
              "      background-color: #3B4455;\n",
              "      fill: #D2E3FC;\n",
              "    }\n",
              "\n",
              "    [theme=dark] .colab-df-convert:hover {\n",
              "      background-color: #434B5C;\n",
              "      box-shadow: 0px 1px 3px 1px rgba(0, 0, 0, 0.15);\n",
              "      filter: drop-shadow(0px 1px 2px rgba(0, 0, 0, 0.3));\n",
              "      fill: #FFFFFF;\n",
              "    }\n",
              "  </style>\n",
              "\n",
              "    <script>\n",
              "      const buttonEl =\n",
              "        document.querySelector('#df-de6ac7e2-dfe6-4e85-98da-0c7aca3c0327 button.colab-df-convert');\n",
              "      buttonEl.style.display =\n",
              "        google.colab.kernel.accessAllowed ? 'block' : 'none';\n",
              "\n",
              "      async function convertToInteractive(key) {\n",
              "        const element = document.querySelector('#df-de6ac7e2-dfe6-4e85-98da-0c7aca3c0327');\n",
              "        const dataTable =\n",
              "          await google.colab.kernel.invokeFunction('convertToInteractive',\n",
              "                                                    [key], {});\n",
              "        if (!dataTable) return;\n",
              "\n",
              "        const docLinkHtml = 'Like what you see? Visit the ' +\n",
              "          '<a target=\"_blank\" href=https://colab.research.google.com/notebooks/data_table.ipynb>data table notebook</a>'\n",
              "          + ' to learn more about interactive tables.';\n",
              "        element.innerHTML = '';\n",
              "        dataTable['output_type'] = 'display_data';\n",
              "        await google.colab.output.renderOutput(dataTable, element);\n",
              "        const docLink = document.createElement('div');\n",
              "        docLink.innerHTML = docLinkHtml;\n",
              "        element.appendChild(docLink);\n",
              "      }\n",
              "    </script>\n",
              "  </div>\n",
              "\n",
              "\n",
              "<div id=\"df-f9505fe1-0b75-4b59-bb19-0f9ff810e389\">\n",
              "  <button class=\"colab-df-quickchart\" onclick=\"quickchart('df-f9505fe1-0b75-4b59-bb19-0f9ff810e389')\"\n",
              "            title=\"Suggest charts\"\n",
              "            style=\"display:none;\">\n",
              "\n",
              "<svg xmlns=\"http://www.w3.org/2000/svg\" height=\"24px\"viewBox=\"0 0 24 24\"\n",
              "     width=\"24px\">\n",
              "    <g>\n",
              "        <path d=\"M19 3H5c-1.1 0-2 .9-2 2v14c0 1.1.9 2 2 2h14c1.1 0 2-.9 2-2V5c0-1.1-.9-2-2-2zM9 17H7v-7h2v7zm4 0h-2V7h2v10zm4 0h-2v-4h2v4z\"/>\n",
              "    </g>\n",
              "</svg>\n",
              "  </button>\n",
              "\n",
              "<style>\n",
              "  .colab-df-quickchart {\n",
              "      --bg-color: #E8F0FE;\n",
              "      --fill-color: #1967D2;\n",
              "      --hover-bg-color: #E2EBFA;\n",
              "      --hover-fill-color: #174EA6;\n",
              "      --disabled-fill-color: #AAA;\n",
              "      --disabled-bg-color: #DDD;\n",
              "  }\n",
              "\n",
              "  [theme=dark] .colab-df-quickchart {\n",
              "      --bg-color: #3B4455;\n",
              "      --fill-color: #D2E3FC;\n",
              "      --hover-bg-color: #434B5C;\n",
              "      --hover-fill-color: #FFFFFF;\n",
              "      --disabled-bg-color: #3B4455;\n",
              "      --disabled-fill-color: #666;\n",
              "  }\n",
              "\n",
              "  .colab-df-quickchart {\n",
              "    background-color: var(--bg-color);\n",
              "    border: none;\n",
              "    border-radius: 50%;\n",
              "    cursor: pointer;\n",
              "    display: none;\n",
              "    fill: var(--fill-color);\n",
              "    height: 32px;\n",
              "    padding: 0;\n",
              "    width: 32px;\n",
              "  }\n",
              "\n",
              "  .colab-df-quickchart:hover {\n",
              "    background-color: var(--hover-bg-color);\n",
              "    box-shadow: 0 1px 2px rgba(60, 64, 67, 0.3), 0 1px 3px 1px rgba(60, 64, 67, 0.15);\n",
              "    fill: var(--button-hover-fill-color);\n",
              "  }\n",
              "\n",
              "  .colab-df-quickchart-complete:disabled,\n",
              "  .colab-df-quickchart-complete:disabled:hover {\n",
              "    background-color: var(--disabled-bg-color);\n",
              "    fill: var(--disabled-fill-color);\n",
              "    box-shadow: none;\n",
              "  }\n",
              "\n",
              "  .colab-df-spinner {\n",
              "    border: 2px solid var(--fill-color);\n",
              "    border-color: transparent;\n",
              "    border-bottom-color: var(--fill-color);\n",
              "    animation:\n",
              "      spin 1s steps(1) infinite;\n",
              "  }\n",
              "\n",
              "  @keyframes spin {\n",
              "    0% {\n",
              "      border-color: transparent;\n",
              "      border-bottom-color: var(--fill-color);\n",
              "      border-left-color: var(--fill-color);\n",
              "    }\n",
              "    20% {\n",
              "      border-color: transparent;\n",
              "      border-left-color: var(--fill-color);\n",
              "      border-top-color: var(--fill-color);\n",
              "    }\n",
              "    30% {\n",
              "      border-color: transparent;\n",
              "      border-left-color: var(--fill-color);\n",
              "      border-top-color: var(--fill-color);\n",
              "      border-right-color: var(--fill-color);\n",
              "    }\n",
              "    40% {\n",
              "      border-color: transparent;\n",
              "      border-right-color: var(--fill-color);\n",
              "      border-top-color: var(--fill-color);\n",
              "    }\n",
              "    60% {\n",
              "      border-color: transparent;\n",
              "      border-right-color: var(--fill-color);\n",
              "    }\n",
              "    80% {\n",
              "      border-color: transparent;\n",
              "      border-right-color: var(--fill-color);\n",
              "      border-bottom-color: var(--fill-color);\n",
              "    }\n",
              "    90% {\n",
              "      border-color: transparent;\n",
              "      border-bottom-color: var(--fill-color);\n",
              "    }\n",
              "  }\n",
              "</style>\n",
              "\n",
              "  <script>\n",
              "    async function quickchart(key) {\n",
              "      const quickchartButtonEl =\n",
              "        document.querySelector('#' + key + ' button');\n",
              "      quickchartButtonEl.disabled = true;  // To prevent multiple clicks.\n",
              "      quickchartButtonEl.classList.add('colab-df-spinner');\n",
              "      try {\n",
              "        const charts = await google.colab.kernel.invokeFunction(\n",
              "            'suggestCharts', [key], {});\n",
              "      } catch (error) {\n",
              "        console.error('Error during call to suggestCharts:', error);\n",
              "      }\n",
              "      quickchartButtonEl.classList.remove('colab-df-spinner');\n",
              "      quickchartButtonEl.classList.add('colab-df-quickchart-complete');\n",
              "    }\n",
              "    (() => {\n",
              "      let quickchartButtonEl =\n",
              "        document.querySelector('#df-f9505fe1-0b75-4b59-bb19-0f9ff810e389 button');\n",
              "      quickchartButtonEl.style.display =\n",
              "        google.colab.kernel.accessAllowed ? 'block' : 'none';\n",
              "    })();\n",
              "  </script>\n",
              "</div>\n",
              "\n",
              "    </div>\n",
              "  </div>\n"
            ],
            "application/vnd.google.colaboratory.intrinsic+json": {
              "type": "dataframe",
              "summary": "{\n  \"name\": \"diabetes\",\n  \"rows\": 8,\n  \"fields\": [\n    {\n      \"column\": \"Pregnancies\",\n      \"properties\": {\n        \"dtype\": \"number\",\n        \"std\": 269.85223453356366,\n        \"min\": 0.0,\n        \"max\": 768.0,\n        \"num_unique_values\": 8,\n        \"samples\": [\n          3.8450520833333335,\n          3.0,\n          768.0\n        ],\n        \"semantic_type\": \"\",\n        \"description\": \"\"\n      }\n    },\n    {\n      \"column\": \"Glucose\",\n      \"properties\": {\n        \"dtype\": \"number\",\n        \"std\": 243.73802348295857,\n        \"min\": 0.0,\n        \"max\": 768.0,\n        \"num_unique_values\": 8,\n        \"samples\": [\n          120.89453125,\n          117.0,\n          768.0\n        ],\n        \"semantic_type\": \"\",\n        \"description\": \"\"\n      }\n    },\n    {\n      \"column\": \"BloodPressure\",\n      \"properties\": {\n        \"dtype\": \"number\",\n        \"std\": 252.85250535810619,\n        \"min\": 0.0,\n        \"max\": 768.0,\n        \"num_unique_values\": 8,\n        \"samples\": [\n          69.10546875,\n          72.0,\n          768.0\n        ],\n        \"semantic_type\": \"\",\n        \"description\": \"\"\n      }\n    },\n    {\n      \"column\": \"SkinThickness\",\n      \"properties\": {\n        \"dtype\": \"number\",\n        \"std\": 263.7684730531098,\n        \"min\": 0.0,\n        \"max\": 768.0,\n        \"num_unique_values\": 7,\n        \"samples\": [\n          768.0,\n          20.536458333333332,\n          32.0\n        ],\n        \"semantic_type\": \"\",\n        \"description\": \"\"\n      }\n    },\n    {\n      \"column\": \"Insulin\",\n      \"properties\": {\n        \"dtype\": \"number\",\n        \"std\": 350.26059167945886,\n        \"min\": 0.0,\n        \"max\": 846.0,\n        \"num_unique_values\": 7,\n        \"samples\": [\n          768.0,\n          79.79947916666667,\n          127.25\n        ],\n        \"semantic_type\": \"\",\n        \"description\": \"\"\n      }\n    },\n    {\n      \"column\": \"BMI\",\n      \"properties\": {\n        \"dtype\": \"number\",\n        \"std\": 262.05117817552093,\n        \"min\": 0.0,\n        \"max\": 768.0,\n        \"num_unique_values\": 8,\n        \"samples\": [\n          31.992578124999998,\n          32.0,\n          768.0\n        ],\n        \"semantic_type\": \"\",\n        \"description\": \"\"\n      }\n    },\n    {\n      \"column\": \"DiabetesPedigreeFunction\",\n      \"properties\": {\n        \"dtype\": \"number\",\n        \"std\": 271.3005221658502,\n        \"min\": 0.078,\n        \"max\": 768.0,\n        \"num_unique_values\": 8,\n        \"samples\": [\n          0.47187630208333325,\n          0.3725,\n          768.0\n        ],\n        \"semantic_type\": \"\",\n        \"description\": \"\"\n      }\n    },\n    {\n      \"column\": \"Age\",\n      \"properties\": {\n        \"dtype\": \"number\",\n        \"std\": 260.1941178528413,\n        \"min\": 11.76023154067868,\n        \"max\": 768.0,\n        \"num_unique_values\": 8,\n        \"samples\": [\n          33.240885416666664,\n          29.0,\n          768.0\n        ],\n        \"semantic_type\": \"\",\n        \"description\": \"\"\n      }\n    },\n    {\n      \"column\": \"Outcome\",\n      \"properties\": {\n        \"dtype\": \"number\",\n        \"std\": 271.3865920388932,\n        \"min\": 0.0,\n        \"max\": 768.0,\n        \"num_unique_values\": 5,\n        \"samples\": [\n          0.3489583333333333,\n          1.0,\n          0.4769513772427971\n        ],\n        \"semantic_type\": \"\",\n        \"description\": \"\"\n      }\n    }\n  ]\n}"
            }
          },
          "metadata": {},
          "execution_count": 65
        }
      ]
    },
    {
      "cell_type": "code",
      "source": [
        "'''\n",
        "inference\n",
        "1. for column Insulin,glucose we can see that mean is significantly greater than\n",
        "median implying that there are outiers in right tail\n",
        "2. for column BMI,pregnancy we can see that mean and median\n",
        "are approximately same which means that the data is symmetric.\n",
        "3. for column blood pressure we can see that mean is significantly less than\n",
        "median implying that there are outiers in left tail\n",
        "Age is between 21 to 81"
      ],
      "metadata": {
        "id": "Rn11kvuyGYCc"
      },
      "execution_count": null,
      "outputs": []
    },
    {
      "cell_type": "markdown",
      "source": [
        "● Visualize distributions using Pandas built-in plotting functions.\n",
        "\n",
        "● Create histograms, scatter plots, and box plots using Matplotlib."
      ],
      "metadata": {
        "id": "IiFaIO0CLglp"
      }
    },
    {
      "cell_type": "code",
      "source": [
        "# Histogram for numeric columns\n",
        "for col in diabetes.select_dtypes(include = np.number):\n",
        "  plt.figure(figsize = (5, 3))\n",
        "  sns.histplot(diabetes[col], kde = True)\n",
        "  plt.title(f'Histogram of {col}')\n",
        "  plt.xlabel(col)\n",
        "  plt.ylabel('Frequency')\n",
        "  plt.show()"
      ],
      "metadata": {
        "colab": {
          "base_uri": "https://localhost:8080/",
          "height": 1000
        },
        "id": "h_fR7c2fLYxz",
        "outputId": "0884880e-6cba-4192-e941-daba220e483b"
      },
      "execution_count": 66,
      "outputs": [
        {
          "output_type": "display_data",
          "data": {
            "text/plain": [
              "<Figure size 500x300 with 1 Axes>"
            ],
            "image/png": "[encoded data removed]"
          },
          "metadata": {}
        },
        {
          "output_type": "display_data",
          "data": {
            "text/plain": [
              "<Figure size 500x300 with 1 Axes>"
            ],
            "image/png": "[encoded data removed]"
          },
          "metadata": {}
        },
        {
          "output_type": "display_data",
          "data": {
            "text/plain": [
              "<Figure size 500x300 with 1 Axes>"
            ],
            "image/png": "[encoded data removed]"
          },
          "metadata": {}
        },
        {
          "output_type": "display_data",
          "data": {
            "text/plain": [
              "<Figure size 500x300 with 1 Axes>"
            ],
            "image/png": "[encoded data removed]"
          },
          "metadata": {}
        },
        {
          "output_type": "display_data",
          "data": {
            "text/plain": [
              "<Figure size 500x300 with 1 Axes>"
            ],
            "image/png": "[encoded data removed]"
          },
          "metadata": {}
        },
        {
          "output_type": "display_data",
          "data": {
            "text/plain": [
              "<Figure size 500x300 with 1 Axes>"
            ],
            "image/png": "[encoded data removed]"
          },
          "metadata": {}
        },
        {
          "output_type": "display_data",
          "data": {
            "text/plain": [
              "<Figure size 500x300 with 1 Axes>"
            ],
            "image/png": "[encoded data removed]"
          },
          "metadata": {}
        },
        {
          "output_type": "display_data",
          "data": {
            "text/plain": [
              "<Figure size 500x300 with 1 Axes>"
            ],
            "image/png": "[encoded data removed]"
          },
          "metadata": {}
        },
        {
          "output_type": "display_data",
          "data": {
            "text/plain": [
              "<Figure size 500x300 with 1 Axes>"
            ],
            "image/png": "[encoded data removed]"
          },
          "metadata": {}
        }
      ]
    },
    {
      "cell_type": "code",
      "source": [
        "'''\n",
        "Conclusions ->\n",
        "(1) From the histogram of \"age\", insulin column, we can say that as right skwed and outliers at right tail\n",
        "(2) From the histogram of \"bmi\" and blood pressure column,\n",
        "we can see that we the distribution is normal.\n",
        "(3) From the histogram of \"pregnancy\" column,\n",
        "we can say that as right skwed and outliers at right tail\n",
        "(4) From the histogram of \"charges\" column, we can say that it follows an exponentially\n",
        "decreasing curve\n",
        "'''"
      ],
      "metadata": {
        "id": "YNCcNdagMiqi"
      },
      "execution_count": null,
      "outputs": []
    },
    {
      "cell_type": "code",
      "source": [
        "# Boxplots for all the numerical columns\n",
        "for col in diabetes.select_dtypes(include = np.number):\n",
        "  plt.figure(figsize = (5, 3))\n",
        "  sns.boxplot(diabetes[col])\n",
        "  plt.title(f'Boxplot of {col}')\n",
        "  plt.ylabel('Values')\n",
        "  plt.show()"
      ],
      "metadata": {
        "colab": {
          "base_uri": "https://localhost:8080/",
          "height": 1000
        },
        "id": "GtzcRszaPBa5",
        "outputId": "cd73520c-bb85-4a06-c6a1-f2021387929d"
      },
      "execution_count": 68,
      "outputs": [
        {
          "output_type": "display_data",
          "data": {
            "text/plain": [
              "<Figure size 500x300 with 1 Axes>"
            ],
            "image/png": "[encoded data removed]"
          },
          "metadata": {}
        },
        {
          "output_type": "display_data",
          "data": {
            "text/plain": [
              "<Figure size 500x300 with 1 Axes>"
            ],
            "image/png": "[encoded data removed]"
          },
          "metadata": {}
        },
        {
          "output_type": "display_data",
          "data": {
            "text/plain": [
              "<Figure size 500x300 with 1 Axes>"
            ],
            "image/png": "[encoded data removed]"
          },
          "metadata": {}
        },
        {
          "output_type": "display_data",
          "data": {
            "text/plain": [
              "<Figure size 500x300 with 1 Axes>"
            ],
            "image/png": "[encoded data removed]"
          },
          "metadata": {}
        },
        {
          "output_type": "display_data",
          "data": {
            "text/plain": [
              "<Figure size 500x300 with 1 Axes>"
            ],
            "image/png": "[encoded data removed]"
          },
          "metadata": {}
        },
        {
          "output_type": "display_data",
          "data": {
            "text/plain": [
              "<Figure size 500x300 with 1 Axes>"
            ],
            "image/png": "[encoded data removed]"
          },
          "metadata": {}
        },
        {
          "output_type": "display_data",
          "data": {
            "text/plain": [
              "<Figure size 500x300 with 1 Axes>"
            ],
            "image/png": "[encoded data removed]"
          },
          "metadata": {}
        },
        {
          "output_type": "display_data",
          "data": {
            "text/plain": [
              "<Figure size 500x300 with 1 Axes>"
            ],
            "image/png": "[encoded data removed]"
          },
          "metadata": {}
        },
        {
          "output_type": "display_data",
          "data": {
            "text/plain": [
              "<Figure size 500x300 with 1 Axes>"
            ],
            "image/png": "[encoded data removed]"
          },
          "metadata": {}
        }
      ]
    },
    {
      "cell_type": "code",
      "source": [
        "'''\n",
        "Conclusions ->\n",
        "(1) From the above plots, we can see that\n",
        "\"glucose\" and \"skin thickness\" columns are having one outlier.\n",
        "(2) From the above plots, we can see that\n",
        "\"insuline\", age columns are having outliers\n",
        "have outliers in right tail.\n",
        "(2) From the above plots, we can see that\n",
        "\"bmi\" and \"Blood pressure\", age columns are having outliers\n",
        "both tails\n",
        "'''"
      ],
      "metadata": {
        "id": "sDxcKUs3PW2i"
      },
      "execution_count": null,
      "outputs": []
    },
    {
      "cell_type": "code",
      "source": [
        "for col in diabetes.select_dtypes(exclude = np.number):\n",
        "  plt.figure(figsize = (5, 3))\n",
        "  sns.countplot(diabetes[col])\n",
        "  plt.title(f'Countplot of {col}')\n",
        "  plt.ylabel(col)\n",
        "  plt.xlabel('Frequency')\n",
        "  plt.show()"
      ],
      "metadata": {
        "id": "2j5HyxAIScrL"
      },
      "execution_count": 74,
      "outputs": []
    },
    {
      "cell_type": "code",
      "source": [
        "# Scatterplot (bmi and charges)\n",
        "plt.figure(figsize = (5, 3))\n",
        "sns.scatterplot(x = 'BMI', y = 'Age', data = diabetes)\n",
        "plt.title('Scatterplot of \"bmi\" and \"charges\"')\n",
        "plt.xlabel('bmi')\n",
        "plt.ylabel('charges')\n",
        "plt.show()"
      ],
      "metadata": {
        "colab": {
          "base_uri": "https://localhost:8080/",
          "height": 333
        },
        "id": "klOlVFCKS81M",
        "outputId": "c5ac7088-d407-4eed-ead2-6879ee23747c"
      },
      "execution_count": 82,
      "outputs": [
        {
          "output_type": "display_data",
          "data": {
            "text/plain": [
              "<Figure size 500x300 with 1 Axes>"
            ],
            "image/png": "[encoded data removed]"
          },
          "metadata": {}
        }
      ]
    },
    {
      "cell_type": "code",
      "source": [
        "# Conclusion -> \"bmi\" is not correlated with \"age\""
      ],
      "metadata": {
        "id": "XETWAKccTV3n"
      },
      "execution_count": null,
      "outputs": []
    },
    {
      "cell_type": "code",
      "source": [
        "# Scatterplot (bmi and glucose)\n",
        "plt.figure(figsize = (5, 3))\n",
        "sns.scatterplot(x = 'BMI', y = 'Glucose', data = diabetes)\n",
        "plt.title('Scatterplot of \"bmi\" and \"charges\"')\n",
        "plt.xlabel('bmi')\n",
        "plt.ylabel('charges')\n",
        "plt.show()"
      ],
      "metadata": {
        "colab": {
          "base_uri": "https://localhost:8080/",
          "height": 333
        },
        "id": "JUT9xhtRTYDa",
        "outputId": "608bb8ae-6da5-407e-b42e-c8579abc21e7"
      },
      "execution_count": 83,
      "outputs": [
        {
          "output_type": "display_data",
          "data": {
            "text/plain": [
              "<Figure size 500x300 with 1 Axes>"
            ],
            "image/png": "[encoded data removed]"
          },
          "metadata": {}
        }
      ]
    },
    {
      "cell_type": "code",
      "source": [
        "# Conclusion -> \"bmi\" is not correlated with \"glucose\""
      ],
      "metadata": {
        "id": "7Gf75W-qTlWn"
      },
      "execution_count": null,
      "outputs": []
    },
    {
      "cell_type": "code",
      "source": [
        "# Scatterplot (bmi and Insulin)\n",
        "plt.figure(figsize = (5, 3))\n",
        "sns.scatterplot(x = 'BMI', y = 'Insulin', data = diabetes)\n",
        "plt.title('Scatterplot of \"bmi\" and \"Insulin\"')\n",
        "plt.xlabel('bmi')\n",
        "plt.ylabel('Insuline')\n",
        "plt.show()"
      ],
      "metadata": {
        "colab": {
          "base_uri": "https://localhost:8080/",
          "height": 333
        },
        "id": "9YEOkq0STlLf",
        "outputId": "e7d83f07-53a4-49c9-92af-2ffe02f8d12e"
      },
      "execution_count": 85,
      "outputs": [
        {
          "output_type": "display_data",
          "data": {
            "text/plain": [
              "<Figure size 500x300 with 1 Axes>"
            ],
            "image/png": "[encoded data removed]"
          },
          "metadata": {}
        }
      ]
    },
    {
      "cell_type": "code",
      "source": [
        "# Conclusion -> \"bmi\" is not correlated with \"insuline\""
      ],
      "metadata": {
        "id": "Fb8u_NLYT9kQ"
      },
      "execution_count": null,
      "outputs": []
    },
    {
      "cell_type": "markdown",
      "source": [
        "● Generate correlation heatmaps and violin plots using Seaborn."
      ],
      "metadata": {
        "id": "XMAG7ro0UGbg"
      }
    },
    {
      "cell_type": "code",
      "source": [
        "# Correlation Analysis (Pearson's Correlation Coefficient)\n",
        "plt.figure(figsize = (9, 7))\n",
        "sns.heatmap(diabetes.corr(), annot = True)\n",
        "plt.show()"
      ],
      "metadata": {
        "colab": {
          "base_uri": "https://localhost:8080/",
          "height": 772
        },
        "id": "HWw2emakUHh4",
        "outputId": "80b20a9d-ca6c-4727-bae1-3228f407aef6"
      },
      "execution_count": 88,
      "outputs": [
        {
          "output_type": "display_data",
          "data": {
            "text/plain": [
              "<Figure size 900x700 with 2 Axes>"
            ],
            "image/png": "[encoded data removed]"
          },
          "metadata": {}
        }
      ]
    },
    {
      "cell_type": "code",
      "source": [
        "'''\n",
        "From the above column, if you observe, we can see the following conclusions ->\n",
        "(1) \"age\" are showing strong positive correlation with \"pregnancy\" column\n",
        "(2) \"bmi\" are showing weak positive correlation with \"insulin\" column\n",
        "'''"
      ],
      "metadata": {
        "id": "eo-Q1Bd2VyWD"
      },
      "execution_count": null,
      "outputs": []
    },
    {
      "cell_type": "code",
      "source": [
        "# Create a sample DataFrame\n",
        "data = {\n",
        "    'Category': ['A', 'B', 'C', 'A', 'B', 'C', 'A', 'B', 'C', 'A'],\n",
        "    'Value': [23, 45, 56, 78, 34, 56, 89, 12, 67, 45]\n",
        "}\n",
        "\n",
        "df = pd.DataFrame(data)\n",
        "\n",
        "# Create a violin plot\n",
        "sns.violinplot(x='Category', y='Value', data=df)\n",
        "\n",
        "# Display the plot\n",
        "plt.show()"
      ],
      "metadata": {
        "colab": {
          "base_uri": "https://localhost:8080/",
          "height": 449
        },
        "id": "2hUZwe6CVS_i",
        "outputId": "0446f3d0-b190-4906-d639-1ba0969d8a36"
      },
      "execution_count": 89,
      "outputs": [
        {
          "output_type": "display_data",
          "data": {
            "text/plain": [
              "<Figure size 640x480 with 1 Axes>"
            ],
            "image/png": "[encoded data removed]"
          },
          "metadata": {}
        }
      ]
    },
    {
      "cell_type": "markdown",
      "source": [
        "**6. Fine-tuning and Optimization:**\n",
        "\n",
        "● Optimize DataFrame performance by changing data types (astype() for memory reduction)."
      ],
      "metadata": {
        "id": "aVfWvKSnWntI"
      }
    },
    {
      "cell_type": "code",
      "source": [
        "# Create a sample DataFrame\n",
        "data = {\n",
        "    'Age': [25, 30, 35, 40, 45],\n",
        "    'Salary': [50000, 60000, 70000, 80000, 90000],\n",
        "    'Gender': ['F', 'M', 'M', 'M', 'F']\n",
        "}\n",
        "\n",
        "df = pd.DataFrame(data)\n",
        "\n",
        "# Check the data types\n",
        "print(df.dtypes)"
      ],
      "metadata": {
        "colab": {
          "base_uri": "https://localhost:8080/"
        },
        "id": "dfMeLqGTWyRV",
        "outputId": "a26e418c-d03b-4f34-a9e4-e54b30fc36be"
      },
      "execution_count": 90,
      "outputs": [
        {
          "output_type": "stream",
          "name": "stdout",
          "text": [
            "Age        int64\n",
            "Salary     int64\n",
            "Gender    object\n",
            "dtype: object\n"
          ]
        }
      ]
    },
    {
      "cell_type": "code",
      "source": [
        "# Convert 'Age' to int8 (if values fit within the range of -128 to 127)\n",
        "df['Age'] = df['Age'].astype('int8')\n",
        "\n",
        "# Convert 'Salary' to int32 (since values fit within the range of -2^31 to 2^31-1)\n",
        "df['Salary'] = df['Salary'].astype('int32')\n",
        "\n",
        "# Convert 'Gender' to 'category' (useful for columns with a limited number of unique values)\n",
        "df['Gender'] = df['Gender'].astype('category')\n",
        "\n",
        "# Check the new data types\n",
        "print(df.dtypes)"
      ],
      "metadata": {
        "colab": {
          "base_uri": "https://localhost:8080/"
        },
        "id": "mA9nz126XXDP",
        "outputId": "3f585f41-03f3-4d06-e5fd-833337e036f7"
      },
      "execution_count": 91,
      "outputs": [
        {
          "output_type": "stream",
          "name": "stdout",
          "text": [
            "Age           int8\n",
            "Salary       int32\n",
            "Gender    category\n",
            "dtype: object\n"
          ]
        }
      ]
    },
    {
      "cell_type": "code",
      "source": [
        "# Check memory usage before optimization\n",
        "print(\"Memory usage before optimization:\")\n",
        "print(df.memory_usage(deep=True))\n",
        "\n",
        "# Optimize data types\n",
        "df['Age'] = df['Age'].astype('int8')\n",
        "df['Salary'] = df['Salary'].astype('int32')\n",
        "df['Gender'] = df['Gender'].astype('category')\n",
        "\n",
        "# Check memory usage after optimization\n",
        "print(\"\\nMemory usage after optimization:\")\n",
        "print(df.memory_usage(deep=True))"
      ],
      "metadata": {
        "colab": {
          "base_uri": "https://localhost:8080/"
        },
        "id": "UFGe5g4lXfkG",
        "outputId": "5ce4050d-0d14-4e81-cb00-c2b60b55270f"
      },
      "execution_count": 92,
      "outputs": [
        {
          "output_type": "stream",
          "name": "stdout",
          "text": [
            "Memory usage before optimization:\n",
            "Index     132\n",
            "Age         5\n",
            "Salary     20\n",
            "Gender    229\n",
            "dtype: int64\n",
            "\n",
            "Memory usage after optimization:\n",
            "Index     132\n",
            "Age         5\n",
            "Salary     20\n",
            "Gender    229\n",
            "dtype: int64\n"
          ]
        }
      ]
    },
    {
      "cell_type": "code",
      "source": [
        "# Sample DataFrame with different types\n",
        "data = {\n",
        "    'ID': [1, 2, 3, 4, 5],\n",
        "    'Age': [23, 45, 33, 55, 40],\n",
        "    'Salary': [35000, 45000, 55000, 60000, 70000],\n",
        "    'Gender': ['M', 'F', 'M', 'M', 'F'],\n",
        "    'Join_Date': ['2021-01-01', '2020-05-15', '2021-07-23', '2019-11-30', '2022-03-10']\n",
        "}\n",
        "\n",
        "df = pd.DataFrame(data)\n",
        "\n",
        "# Convert types to reduce memory usage\n",
        "df['ID'] = df['ID'].astype('int32')\n",
        "df['Age'] = df['Age'].astype('int8')\n",
        "df['Salary'] = df['Salary'].astype('int32')\n",
        "df['Gender'] = df['Gender'].astype('category')\n",
        "df['Join_Date'] = pd.to_datetime(df['Join_Date'])\n",
        "\n",
        "# Check memory usage\n",
        "print(df.memory_usage(deep=True))"
      ],
      "metadata": {
        "colab": {
          "base_uri": "https://localhost:8080/"
        },
        "id": "xO_AT1NeX1NH",
        "outputId": "21526e92-8a7d-4749-baf7-83ea53aeb42d"
      },
      "execution_count": 93,
      "outputs": [
        {
          "output_type": "stream",
          "name": "stdout",
          "text": [
            "Index        132\n",
            "ID            20\n",
            "Age            5\n",
            "Salary        20\n",
            "Gender       229\n",
            "Join_Date     40\n",
            "dtype: int64\n"
          ]
        }
      ]
    }
  ]
}